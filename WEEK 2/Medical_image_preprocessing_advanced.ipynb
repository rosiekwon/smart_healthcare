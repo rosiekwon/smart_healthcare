{
  "nbformat": 4,
  "nbformat_minor": 0,
  "metadata": {
    "colab": {
      "provenance": [],
      "authorship_tag": "ABX9TyMCdfUtWTUXcnYby9IVbpU1",
      "include_colab_link": true
    },
    "kernelspec": {
      "name": "python3",
      "display_name": "Python 3"
    },
    "language_info": {
      "name": "python"
    }
  },
  "cells": [
    {
      "cell_type": "markdown",
      "metadata": {
        "id": "view-in-github",
        "colab_type": "text"
      },
      "source": [
        "<a href=\"https://colab.research.google.com/github/rosiekwon/smart_healthcare/blob/main/WEEK%202/Medical_image_preprocessing_advanced.ipynb\" target=\"_parent\"><img src=\"https://colab.research.google.com/assets/colab-badge.svg\" alt=\"Open In Colab\"/></a>"
      ]
    },
    {
      "cell_type": "markdown",
      "source": [
        "# 1. General radiography\n",
        "- 물체의 밀도차이로 의료 영상 획득\n",
        "- 물체의 밀도가 클때 X-선의 투과력이 약해지면서 영상에서 밝게 보이고, 밀도가 낮을때 영상에서 어둡게 보이게 된다\n",
        "- ex 고음영 영역 (고밀도) =뼈, 저음영 영역 (저밀도) = 공기\n"
      ],
      "metadata": {
        "id": "b4r0DwYLuSd8"
      }
    },
    {
      "cell_type": "markdown",
      "source": [
        "## Computed tomography\n",
        "- 전산화 단층 촬영(CT)은 x선 튜브가 회전하면서 영상을 획득한다\n",
        "- object의 밀도 차이를 이용하여 영상의 대조도를 비교한다\n",
        "\n",
        "<img src = \"https://www.denfoline.co.kr/news/photo/200906/3970_15732.jpg\" height = 300 width = 300>\n",
        "\n",
        "- 영상 획득시 조영제(contrast)를 사용하여 원하는 부위의 큰 대조도를 나타낼 수 있다 \n",
        "[종양의 경우 조영제가 빠르게 혈액으로 흡수되기에 시간차를 이용하여 대조도 차이가 크게 된다]\n",
        "- 조영제 주입 후 시간의 경과에 따라 해부학적 구조물의 대조도 차이가 달라진다\n",
        "\n",
        "- 병변의 종류에 따라 픽셀 값(Housefield Unit)이 달라진다 \n"
      ],
      "metadata": {
        "id": "GbWU2L6WvSVo"
      }
    },
    {
      "cell_type": "markdown",
      "source": [
        "## Magnetic resomance imaging\n",
        "\n",
        "- 1.5T 이상의 강자장 안에 놓인 수소핵의 자기모멘트를 사용한다\n",
        "- 수소핵의 자기모멘트는 전자기유도 법칙에 의해 자기장을 형성하고 이 신호를 얻는다\n",
        "- 자기장 안에 놓인 수소핵의 세차주파수를 RF pulse로 컨트롤한다\n",
        "- 수소핵의 밀도에 따라서 조직의 신호 강도가 달라진다\n",
        "\n",
        "<img src =\"https://scontent-ord5-1.xx.fbcdn.net/v/t1.6435-9/37335603_210155146311864_2473995020416319488_n.jpg?_nc_cat=108&ccb=1-7&_nc_sid=973b4a&_nc_ohc=3KUugz8a-f8AX_6YXsq&_nc_ht=scontent-ord5-1.xx&oh=00_AT9xNH5la4LOdVmKvNYc7IEH3G18xEHumqtWjl_30PLgsQ&oe=637A0943\" height=300 width=400>\n",
        "\n",
        "- 지방 부위의 묘사가 뛰어나서 근육, 인대 부위의 표현력이 뛰어나다\n",
        "\n",
        "\n",
        "- T1 강조영상 - 물은 어둡게 지방은 밝게\n",
        "- T2 강조영상 - 물은 밝게 지방은 어둡게\n",
        "- FLAIR(액체 감쇠 반전 회복 기법) - 뇌실 주위와 척수의 병변을 선명하게 볼 수있는 방법\n",
        "\n",
        "<img src = \"https://mblogthumb-phinf.pstatic.net/MjAxNzEyMTVfMTg2/MDAxNTEzMjc0MjUzMTUw.jhvj1lyo3zSHV1vZ5HWxqfi9vDfcMbgs79gNApVl8bMg.BFG7TbVESb7ReYXpnP3DeM7JkmpuwZlkwnm8q_Rudq0g.JPEG.meryang63/t1t2flairbrain.jpg?type=w800\" height = 300 width = 700>"
      ],
      "metadata": {
        "id": "LFYt96Z4xYXx"
      }
    },
    {
      "cell_type": "markdown",
      "source": [
        "* MRA TOF(MRI angiography Time of Flight) fig(b)\n",
        "  * 혈액 속의 분자들을 excitation 시킨 후 영상을 얻고 싶은 부위만 신호를 획득하여 혈관만 밝게 보이게 된다\n",
        "  \n",
        "\n",
        "*  DWI(Diffusion Weighted Image) fig(a)\n",
        "  * 정상 조직은 자유롭게 움직이지만 신호강도가 낮고 병변이 존재하는 조직은 확산이 제한된다 (infarction 볼 수 있음)\n",
        "\n",
        "<img src = \"https://www.researchgate.net/publication/340719260/figure/fig3/AS:960050151583747@1605905201473/A-62-year-old-male-presented-with-L-MCA-area-infarction-a-DWI-TOF-MRA-b-shows.jpg\" height = 300 width = 700>\n"
      ],
      "metadata": {
        "id": "F5LJ9qt_znA6"
      }
    },
    {
      "cell_type": "markdown",
      "source": [
        "# 2. Augmentation\n",
        "\n",
        "## Edge detection\n",
        "- abnormal 한 부분의 표현력을 높이기 위해 사용된다\n",
        "- OpenCV Library"
      ],
      "metadata": {
        "id": "CUbET1UWzm-l"
      }
    },
    {
      "cell_type": "markdown",
      "source": [
        "## Patch Extraction\n",
        "- 이미지의 일부분을 떼어서 사용하는 방법\n",
        "- CT와 MRI 영상은 인체의 횡단면 영상을 얻게 된다. z축으로 일정한 길이마다 분해해서 모델학습에 이용할 수 있다\n",
        "- segmentation 모델 학습에서는 lesion의 labeling data에 coordinate가 들어있기에 이를 이용하여 extraction을 사용할 수 있다"
      ],
      "metadata": {
        "id": "ScvP9nXkAaWH"
      }
    },
    {
      "cell_type": "markdown",
      "source": [
        "# Mask Extraction\n",
        "- 픽셀 값을 기준으로 binary image를 얻어서 특정 영역만 남긴다\n",
        "<img src = \"https://www.researchgate.net/publication/270619979/figure/fig2/AS:611519939235841@1522809123923/Color-Automatic-extraction-of-the-lungs-from-chest-CT-images-a-Original-image-b.png\">"
      ],
      "metadata": {
        "id": "jZrmVw2QCBzy"
      }
    },
    {
      "cell_type": "markdown",
      "source": [
        "# 3. Medical Imaging"
      ],
      "metadata": {
        "id": "ZyC34iXkCiZa"
      }
    },
    {
      "cell_type": "markdown",
      "source": [
        "## Housefield Unit(HU)\n",
        "\n",
        "## Window Setting\n",
        "- window level, window width로 보고자 하는 부위 결정\n",
        "\n",
        "<img src = \"https://www.researchgate.net/profile/Muhammad-Faisal-Khilji/publication/328677034/figure/fig1/AS:688290663526402@1541112690903/CT-scan-of-brain-soft-tissue-and-bone-windows-showing-bilateral-frontal-bone-fractures.png\" height = 200 width = 400>"
      ],
      "metadata": {
        "id": "jeyBm-Q6Cnmw"
      }
    },
    {
      "cell_type": "markdown",
      "source": [
        "## Algorithm\n",
        "\n",
        "- Hard algorithm ; spatial resolution 과 관련\n",
        "- soft algorithm ; low contrast와 관련\n",
        "  - pixel value의 차이가 적은 물체를 구분할때 사용\n",
        "  - 좁은 범위의 gray scale을 비교할 때 사용\n",
        "\n",
        "<img src =\"https://prod-images-static.radiopaedia.org/images/32883641/66125620f08b865ec9908d04fa89a0_gallery.jpeg\" height = 300>"
      ],
      "metadata": {
        "id": "ilRrKbj7DqNP"
      }
    }
  ]
}
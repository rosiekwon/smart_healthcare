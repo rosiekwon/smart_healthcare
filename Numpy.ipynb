{
  "nbformat": 4,
  "nbformat_minor": 0,
  "metadata": {
    "colab": {
      "provenance": [],
      "authorship_tag": "ABX9TyOwMlVrt45LQfJcVmD1C4Tg",
      "include_colab_link": true
    },
    "kernelspec": {
      "name": "python3",
      "display_name": "Python 3"
    },
    "language_info": {
      "name": "python"
    }
  },
  "cells": [
    {
      "cell_type": "markdown",
      "metadata": {
        "id": "view-in-github",
        "colab_type": "text"
      },
      "source": [
        "<a href=\"https://colab.research.google.com/github/rosiekwon/smart_healthcare/blob/main/Numpy.ipynb\" target=\"_parent\"><img src=\"https://colab.research.google.com/assets/colab-badge.svg\" alt=\"Open In Colab\"/></a>"
      ]
    },
    {
      "cell_type": "markdown",
      "source": [
        "## Numpy\n",
        "- 행렬, 벡터 연산을 위한 라이브러리\n",
        "  - ndim : 배열의 차원\n",
        "  - shape : 배열의 형태\n",
        "  - size : 배열 내 원소들의 총 개수 \n",
        "  - dtype : 배열 내의 원소의 자료형"
      ],
      "metadata": {
        "id": "9jml6RMqmGL7"
      }
    },
    {
      "cell_type": "code",
      "execution_count": 23,
      "metadata": {
        "colab": {
          "base_uri": "https://localhost:8080/"
        },
        "id": "HtEDnoELl6a-",
        "outputId": "a600b109-1fff-408e-fae3-22a3bd8766c9"
      },
      "outputs": [
        {
          "output_type": "stream",
          "name": "stdout",
          "text": [
            "[[1 2 3]\n",
            " [4 5 6]]\n",
            "2\n",
            "(2, 3)\n",
            "6\n",
            "int64\n"
          ]
        }
      ],
      "source": [
        "#다차원 배열 (n-dimensional array)\n",
        "import numpy as np\n",
        "arr = np.array([[1,2,3],[4,5,6]])\n",
        "print(arr)\n",
        "print(arr.ndim)\n",
        "print(arr.shape)\n",
        "print(arr.size)\n",
        "print(arr.dtype)"
      ]
    },
    {
      "cell_type": "code",
      "source": [
        "#concatenate\n",
        "r1= np.array([[1,2,3]])\n",
        "r2= np.array([[4,5,6]])\n",
        "#위아래로 붙이기\n",
        "print(np.concatenate((r1,r2),axis=0))\n",
        "print(np.vstack([r1,r2]))\n",
        "print(np.r_[r1,r2])\n",
        "\n",
        "#옆으로 붙이기\n",
        "print(np.concatenate((r1,r2),axis=1))\n",
        "print(np.hstack([r1,r2]))\n",
        "print(np.c_[r1,r2])"
      ],
      "metadata": {
        "colab": {
          "base_uri": "https://localhost:8080/"
        },
        "id": "HOnpdX0-vmcn",
        "outputId": "44f22475-6f0f-4f9d-9949-63d5b31d8fe7"
      },
      "execution_count": 27,
      "outputs": [
        {
          "output_type": "stream",
          "name": "stdout",
          "text": [
            "[[1 2 3]\n",
            " [4 5 6]]\n",
            "[[1 2 3]\n",
            " [4 5 6]]\n",
            "[[1 2 3]\n",
            " [4 5 6]]\n",
            "[[1 2 3 4 5 6]]\n",
            "[[1 2 3 4 5 6]]\n",
            "[[1 2 3 4 5 6]]\n"
          ]
        }
      ]
    },
    {
      "cell_type": "code",
      "source": [
        "#zero array\n",
        "zero_arr = np.zeros(shape=(2,3))\n",
        "zero_arr"
      ],
      "metadata": {
        "colab": {
          "base_uri": "https://localhost:8080/"
        },
        "id": "GXeB2Hpxx9zs",
        "outputId": "af8c100b-33ef-4023-f36c-dcbb87f98ba6"
      },
      "execution_count": 28,
      "outputs": [
        {
          "output_type": "execute_result",
          "data": {
            "text/plain": [
              "array([[0., 0., 0.],\n",
              "       [0., 0., 0.]])"
            ]
          },
          "metadata": {},
          "execution_count": 28
        }
      ]
    },
    {
      "cell_type": "code",
      "source": [
        "#데이터 형태 변경\n",
        "z2 = zero_arr.astype('int16')\n",
        "print(z2.dtype)\n",
        "print(z2)"
      ],
      "metadata": {
        "colab": {
          "base_uri": "https://localhost:8080/"
        },
        "id": "sj07-IeHyDil",
        "outputId": "1bc01f7a-c4cd-4a2d-e101-cf08a22cac70"
      },
      "execution_count": 31,
      "outputs": [
        {
          "output_type": "stream",
          "name": "stdout",
          "text": [
            "int16\n",
            "[[0 0 0]\n",
            " [0 0 0]]\n"
          ]
        }
      ]
    },
    {
      "cell_type": "code",
      "source": [
        "#one array\n",
        "one_arr = np.ones((2,3))\n",
        "one_arr"
      ],
      "metadata": {
        "colab": {
          "base_uri": "https://localhost:8080/"
        },
        "id": "9_i_UN5syT6v",
        "outputId": "7065bd4e-69d2-4353-a6b8-3908a21b15e4"
      },
      "execution_count": 33,
      "outputs": [
        {
          "output_type": "execute_result",
          "data": {
            "text/plain": [
              "array([[1., 1., 1.],\n",
              "       [1., 1., 1.]])"
            ]
          },
          "metadata": {},
          "execution_count": 33
        }
      ]
    },
    {
      "cell_type": "code",
      "source": [
        "id = np.identity(n=5,dtype=np.int8)\n",
        "id"
      ],
      "metadata": {
        "colab": {
          "base_uri": "https://localhost:8080/"
        },
        "id": "SPimgNHfymDu",
        "outputId": "58d6b73f-2506-47b5-86f8-1ce804cfae42"
      },
      "execution_count": 34,
      "outputs": [
        {
          "output_type": "execute_result",
          "data": {
            "text/plain": [
              "array([[1, 0, 0, 0, 0],\n",
              "       [0, 1, 0, 0, 0],\n",
              "       [0, 0, 1, 0, 0],\n",
              "       [0, 0, 0, 1, 0],\n",
              "       [0, 0, 0, 0, 1]], dtype=int8)"
            ]
          },
          "metadata": {},
          "execution_count": 34
        }
      ]
    },
    {
      "cell_type": "code",
      "source": [
        "#범위값 array\n",
        "arr = np.arange(1,10)\n",
        "arr"
      ],
      "metadata": {
        "colab": {
          "base_uri": "https://localhost:8080/"
        },
        "id": "0_z3GpxQy3p-",
        "outputId": "b72ac5dc-8cd3-4ac8-d129-916b314726ee"
      },
      "execution_count": 36,
      "outputs": [
        {
          "output_type": "execute_result",
          "data": {
            "text/plain": [
              "array([1, 2, 3, 4, 5, 6, 7, 8, 9])"
            ]
          },
          "metadata": {},
          "execution_count": 36
        }
      ]
    },
    {
      "cell_type": "markdown",
      "source": [
        "행렬의 사칙연산"
      ],
      "metadata": {
        "id": "yNUFyWU_zt1f"
      }
    },
    {
      "cell_type": "code",
      "source": [
        "#list 요소들의 합 구현\n",
        "A = [[1,2,3],[4,5,6]]\n",
        "B = [[4,5,6],[1,2,3]]\n",
        "add = [[c+d for c, d in zip(a,b)] for a,b in zip(A,B)]\n",
        "add"
      ],
      "metadata": {
        "colab": {
          "base_uri": "https://localhost:8080/"
        },
        "id": "_l6_WiPEzEQP",
        "outputId": "7f8b1f6f-1332-466a-d83c-c7f5ed16c5b8"
      },
      "execution_count": 39,
      "outputs": [
        {
          "output_type": "execute_result",
          "data": {
            "text/plain": [
              "[[5, 7, 9], [5, 7, 9]]"
            ]
          },
          "metadata": {},
          "execution_count": 39
        }
      ]
    },
    {
      "cell_type": "code",
      "source": [
        "a = np.array(A)\n",
        "b = np.array(B)\n",
        "a+b"
      ],
      "metadata": {
        "colab": {
          "base_uri": "https://localhost:8080/"
        },
        "id": "fKESJFc_zpSW",
        "outputId": "8fdb2dc5-7499-4e23-df13-e728473ac3cf"
      },
      "execution_count": 40,
      "outputs": [
        {
          "output_type": "execute_result",
          "data": {
            "text/plain": [
              "array([[5, 7, 9],\n",
              "       [5, 7, 9]])"
            ]
          },
          "metadata": {},
          "execution_count": 40
        }
      ]
    },
    {
      "cell_type": "code",
      "source": [
        "#행렬의 곱\n",
        "a = np.array(A)\n",
        "b = np.array(B).reshape(3,2)\n",
        "np.dot(a,b)"
      ],
      "metadata": {
        "colab": {
          "base_uri": "https://localhost:8080/"
        },
        "id": "9bRBabi6ztOL",
        "outputId": "2383c1fd-9232-41fb-97d8-d48d7223c29b"
      },
      "execution_count": 42,
      "outputs": [
        {
          "output_type": "execute_result",
          "data": {
            "text/plain": [
              "array([[22, 16],\n",
              "       [58, 43]])"
            ]
          },
          "metadata": {},
          "execution_count": 42
        }
      ]
    },
    {
      "cell_type": "code",
      "source": [
        "#broadcasting\n",
        "a1 = np.array([[1,2,3],[14,15,16]])\n",
        "a2 = np.array([1])\n",
        "a3 = np.array([1,2,3])\n",
        "a1,a2,a3"
      ],
      "metadata": {
        "colab": {
          "base_uri": "https://localhost:8080/"
        },
        "id": "7MzneH8Zz_r9",
        "outputId": "d7fb77b0-164b-4ab7-9e0a-cba258686d9e"
      },
      "execution_count": 44,
      "outputs": [
        {
          "output_type": "execute_result",
          "data": {
            "text/plain": [
              "(array([[ 1,  2,  3],\n",
              "        [14, 15, 16]]), array([1]), array([1, 2, 3]))"
            ]
          },
          "metadata": {},
          "execution_count": 44
        }
      ]
    },
    {
      "cell_type": "code",
      "source": [
        "a1+a2+a3"
      ],
      "metadata": {
        "colab": {
          "base_uri": "https://localhost:8080/"
        },
        "id": "8weMNMAx0SBJ",
        "outputId": "dfcb3be1-dae0-4641-ddfd-6bbcc86489d7"
      },
      "execution_count": 45,
      "outputs": [
        {
          "output_type": "execute_result",
          "data": {
            "text/plain": [
              "array([[ 3,  5,  7],\n",
              "       [16, 18, 20]])"
            ]
          },
          "metadata": {},
          "execution_count": 45
        }
      ]
    },
    {
      "cell_type": "code",
      "source": [
        "#for문으로 행렬 곱 나타내기\n",
        "A = [[1,2,3],[4,5,6]]\n",
        "B = [[6,5],[4,3],[2,1]]\n",
        "print(len(A),len(B))\n",
        "\n",
        "res = [[0 for i in range(len(B[0]))] for _ in range(len(A))] # 2x2\n",
        "for i in range(len(A)):\n",
        "  for j in range(len(B[0])):\n",
        "    for k in range(len(A[0])):\n",
        "      res[i][j] += A[i][k] * B[k][j]\n",
        "res"
      ],
      "metadata": {
        "colab": {
          "base_uri": "https://localhost:8080/"
        },
        "id": "uJccYvab0qM7",
        "outputId": "30950b51-3d6f-49ae-8708-452522af8e3b"
      },
      "execution_count": 49,
      "outputs": [
        {
          "output_type": "execute_result",
          "data": {
            "text/plain": [
              "[[20, 14], [56, 41]]"
            ]
          },
          "metadata": {},
          "execution_count": 49
        }
      ]
    },
    {
      "cell_type": "markdown",
      "source": [
        "n차원 배열의 슬라이싱"
      ],
      "metadata": {
        "id": "-kMriDP51q2L"
      }
    },
    {
      "cell_type": "code",
      "source": [
        "a = np.arange(0,9).reshape(3,3)\n",
        "a"
      ],
      "metadata": {
        "colab": {
          "base_uri": "https://localhost:8080/"
        },
        "id": "_Vin29gX1pKo",
        "outputId": "6927f67d-0252-4749-e5ab-9c76a24405ce"
      },
      "execution_count": 51,
      "outputs": [
        {
          "output_type": "execute_result",
          "data": {
            "text/plain": [
              "array([[0, 1, 2],\n",
              "       [3, 4, 5],\n",
              "       [6, 7, 8]])"
            ]
          },
          "metadata": {},
          "execution_count": 51
        }
      ]
    },
    {
      "cell_type": "code",
      "source": [
        "a[0], a[0,:], a[:,0]"
      ],
      "metadata": {
        "colab": {
          "base_uri": "https://localhost:8080/"
        },
        "id": "7VrQsd71146M",
        "outputId": "7c413d2f-cd92-4cc5-f69a-e432f89e545f"
      },
      "execution_count": 52,
      "outputs": [
        {
          "output_type": "execute_result",
          "data": {
            "text/plain": [
              "(array([0, 1, 2]), array([0, 1, 2]), array([0, 3, 6]))"
            ]
          },
          "metadata": {},
          "execution_count": 52
        }
      ]
    },
    {
      "cell_type": "markdown",
      "source": [
        "numpy statistic modules"
      ],
      "metadata": {
        "id": "HdqHMAEE2AqU"
      }
    },
    {
      "cell_type": "code",
      "source": [
        "arr = np.random.randn(1000)\n",
        "np.max(arr), np.min(arr), np.mean(arr), np.var(arr), np.std(arr)"
      ],
      "metadata": {
        "colab": {
          "base_uri": "https://localhost:8080/"
        },
        "id": "Tvt_2DAy2Etq",
        "outputId": "46b9c34a-5892-46b6-d147-0094ba1c68bd"
      },
      "execution_count": 56,
      "outputs": [
        {
          "output_type": "execute_result",
          "data": {
            "text/plain": [
              "(3.097697951065557,\n",
              " -3.506062158441442,\n",
              " 0.008254594730520533,\n",
              " 1.0419975790896208,\n",
              " 1.0207828266039847)"
            ]
          },
          "metadata": {},
          "execution_count": 56
        }
      ]
    },
    {
      "cell_type": "markdown",
      "source": [
        "- linspace : 설정한 범위에서 선형적으로 분할한 위치의 값 출력\n",
        "- logspace : 설정한 범위에서 로그로 분할한 위치의 값 출력"
      ],
      "metadata": {
        "id": "HKZBfMC42V0u"
      }
    },
    {
      "cell_type": "code",
      "source": [
        "np.linspace(0,100,5) "
      ],
      "metadata": {
        "colab": {
          "base_uri": "https://localhost:8080/"
        },
        "id": "xNhg2gj42LFN",
        "outputId": "2259a4cf-e52a-46bd-e43e-5634ed202616"
      },
      "execution_count": 57,
      "outputs": [
        {
          "output_type": "execute_result",
          "data": {
            "text/plain": [
              "array([  0.,  25.,  50.,  75., 100.])"
            ]
          },
          "metadata": {},
          "execution_count": 57
        }
      ]
    },
    {
      "cell_type": "code",
      "source": [
        "np.logspace(0,100,5) "
      ],
      "metadata": {
        "colab": {
          "base_uri": "https://localhost:8080/"
        },
        "id": "-gM2rdx22dll",
        "outputId": "7f6219ab-bc1c-4b99-99fe-8b3fa99a16b8"
      },
      "execution_count": 58,
      "outputs": [
        {
          "output_type": "execute_result",
          "data": {
            "text/plain": [
              "array([1.e+000, 1.e+025, 1.e+050, 1.e+075, 1.e+100])"
            ]
          },
          "metadata": {},
          "execution_count": 58
        }
      ]
    },
    {
      "cell_type": "markdown",
      "source": [
        "numpy random module"
      ],
      "metadata": {
        "id": "V8cj6a-M2ht9"
      }
    },
    {
      "cell_type": "code",
      "source": [
        "#seed : 랜덤의 설정값\n",
        "np.random.seed(1) \n",
        "res1 = np.random.randint(10,100,10)\n",
        "res1"
      ],
      "metadata": {
        "colab": {
          "base_uri": "https://localhost:8080/"
        },
        "id": "x-qVKzn02kD9",
        "outputId": "1a8afbf4-0e24-4c0c-d13a-22b487acedc1"
      },
      "execution_count": 62,
      "outputs": [
        {
          "output_type": "execute_result",
          "data": {
            "text/plain": [
              "array([47, 22, 82, 19, 85, 15, 89, 74, 26, 11])"
            ]
          },
          "metadata": {},
          "execution_count": 62
        }
      ]
    },
    {
      "cell_type": "code",
      "source": [
        "arr = np.random.randint(0,10,(3,3))\n",
        "arr"
      ],
      "metadata": {
        "colab": {
          "base_uri": "https://localhost:8080/"
        },
        "id": "U3udj83H2uKg",
        "outputId": "f72c1bd4-b1dd-4e66-b5b5-7319fafea12e"
      },
      "execution_count": 69,
      "outputs": [
        {
          "output_type": "execute_result",
          "data": {
            "text/plain": [
              "array([[9, 7, 6],\n",
              "       [9, 1, 0],\n",
              "       [1, 8, 8]])"
            ]
          },
          "metadata": {},
          "execution_count": 69
        }
      ]
    },
    {
      "cell_type": "code",
      "source": [
        "#특정 조건\n",
        "np.any(arr>5)"
      ],
      "metadata": {
        "colab": {
          "base_uri": "https://localhost:8080/"
        },
        "id": "tiUTO7vL3DhP",
        "outputId": "0d694b6d-7f37-47ad-ce7d-4fc952ef7fdd"
      },
      "execution_count": 66,
      "outputs": [
        {
          "output_type": "execute_result",
          "data": {
            "text/plain": [
              "True"
            ]
          },
          "metadata": {},
          "execution_count": 66
        }
      ]
    },
    {
      "cell_type": "code",
      "source": [
        "np.argmin(arr,axis=0) #각 column당 최솟값의 index"
      ],
      "metadata": {
        "colab": {
          "base_uri": "https://localhost:8080/"
        },
        "id": "RiaMPV1a3FVW",
        "outputId": "95fe896a-8979-422a-ba88-52edc3069f12"
      },
      "execution_count": 70,
      "outputs": [
        {
          "output_type": "execute_result",
          "data": {
            "text/plain": [
              "array([2, 1, 1])"
            ]
          },
          "metadata": {},
          "execution_count": 70
        }
      ]
    },
    {
      "cell_type": "code",
      "source": [
        "print(np.where(arr<5,10,arr)) #조건에 맞는 원소를 10으로 값 변환, false일 경우 기존의 값으로\n",
        "print(np.where(arr<5,1,0))"
      ],
      "metadata": {
        "colab": {
          "base_uri": "https://localhost:8080/"
        },
        "id": "Z4N02OXy3T3l",
        "outputId": "3d813701-8bd5-411f-a208-fee5b303f451"
      },
      "execution_count": 73,
      "outputs": [
        {
          "output_type": "stream",
          "name": "stdout",
          "text": [
            "[[ 9  7  6]\n",
            " [ 9 10 10]\n",
            " [10  8  8]]\n",
            "[[0 0 0]\n",
            " [0 1 1]\n",
            " [1 0 0]]\n"
          ]
        }
      ]
    },
    {
      "cell_type": "code",
      "source": [
        "print(np.max(arr,1)) #row\n",
        "print(np.max(arr))"
      ],
      "metadata": {
        "colab": {
          "base_uri": "https://localhost:8080/"
        },
        "id": "hr0onzGF3dku",
        "outputId": "60818b0e-f055-4baa-b63e-8898dd2e9567"
      },
      "execution_count": 77,
      "outputs": [
        {
          "output_type": "stream",
          "name": "stdout",
          "text": [
            "[9 9 8]\n",
            "9\n"
          ]
        }
      ]
    },
    {
      "cell_type": "markdown",
      "source": [
        "Inner product\n",
        "- numpy.inner : 1차원 또는 2차원 배열의 경우 내적을 위해 두번째 행렬을 전치 후 사용\n",
        "- numpy.dot: 2차원의 배열의 경우 행렬 곱 연산을 수행하며 1차원 배열일 경우 벡터의 내적에 해당"
      ],
      "metadata": {
        "id": "VY1Q_qiM4qEj"
      }
    },
    {
      "cell_type": "code",
      "source": [
        "a = np.random.randint(0,10,(2,4))\n",
        "b = np.random.randint(0,10,(2,4))\n",
        "a,b"
      ],
      "metadata": {
        "colab": {
          "base_uri": "https://localhost:8080/"
        },
        "id": "IPzFK3xR4sDn",
        "outputId": "5b859214-cf49-4056-9013-bd0ce0e129fe"
      },
      "execution_count": 84,
      "outputs": [
        {
          "output_type": "execute_result",
          "data": {
            "text/plain": [
              "(array([[3, 9, 8, 7],\n",
              "        [3, 6, 5, 1]]), array([[9, 3, 4, 8],\n",
              "        [1, 4, 0, 3]]))"
            ]
          },
          "metadata": {},
          "execution_count": 84
        }
      ]
    },
    {
      "cell_type": "code",
      "source": [
        "np.dot(a,b.T)"
      ],
      "metadata": {
        "colab": {
          "base_uri": "https://localhost:8080/"
        },
        "id": "tcoMuDAq4yRi",
        "outputId": "f16ec30a-1205-4573-eb89-e2a5008fbb41"
      },
      "execution_count": 85,
      "outputs": [
        {
          "output_type": "execute_result",
          "data": {
            "text/plain": [
              "array([[142,  60],\n",
              "       [ 73,  30]])"
            ]
          },
          "metadata": {},
          "execution_count": 85
        }
      ]
    },
    {
      "cell_type": "code",
      "source": [
        "np.inner(a,b)"
      ],
      "metadata": {
        "colab": {
          "base_uri": "https://localhost:8080/"
        },
        "id": "V6Z8VBWZ46O7",
        "outputId": "9757d3ee-9002-4649-a8ad-f6af8801871e"
      },
      "execution_count": 86,
      "outputs": [
        {
          "output_type": "execute_result",
          "data": {
            "text/plain": [
              "array([[142,  60],\n",
              "       [ 73,  30]])"
            ]
          },
          "metadata": {},
          "execution_count": 86
        }
      ]
    }
  ]
}
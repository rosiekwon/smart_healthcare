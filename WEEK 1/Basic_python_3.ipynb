{
  "nbformat": 4,
  "nbformat_minor": 0,
  "metadata": {
    "colab": {
      "provenance": [],
      "authorship_tag": "ABX9TyP3zRk9pVAQl3LhSp5MXuZQ",
      "include_colab_link": true
    },
    "kernelspec": {
      "name": "python3",
      "display_name": "Python 3"
    },
    "language_info": {
      "name": "python"
    }
  },
  "cells": [
    {
      "cell_type": "markdown",
      "metadata": {
        "id": "view-in-github",
        "colab_type": "text"
      },
      "source": [
        "<a href=\"https://colab.research.google.com/github/rosiekwon/smart_healthcare/blob/main/Basic_python_3.ipynb\" target=\"_parent\"><img src=\"https://colab.research.google.com/assets/colab-badge.svg\" alt=\"Open In Colab\"/></a>"
      ]
    },
    {
      "cell_type": "markdown",
      "source": [
        "## 01. Function"
      ],
      "metadata": {
        "id": "RD9_4TsWZdG1"
      }
    },
    {
      "cell_type": "code",
      "execution_count": 1,
      "metadata": {
        "colab": {
          "base_uri": "https://localhost:8080/",
          "height": 35
        },
        "id": "j1S9ADVPZPR8",
        "outputId": "271fbba7-fe8a-4964-e24d-e0e5a4bb9c8c"
      },
      "outputs": [
        {
          "output_type": "execute_result",
          "data": {
            "text/plain": [
              "'590342'"
            ],
            "application/vnd.google.colaboratory.intrinsic+json": {
              "type": "string"
            }
          },
          "metadata": {},
          "execution_count": 1
        }
      ],
      "source": [
        "#OTP 생성기\n",
        "def genPass():\n",
        "  import random\n",
        "  num = '0123456789'\n",
        "  password = ''\n",
        "\n",
        "  for i in range(6):\n",
        "    idx = random.randrange(len(num))\n",
        "    password += num[idx]\n",
        "  \n",
        "  return password\n",
        "\n",
        "genPass()"
      ]
    },
    {
      "cell_type": "code",
      "source": [
        "Is = ['python','is','fun']\n",
        "\" \".join(Is) #list안의 데이터 한칸씩 띄우고 합치기"
      ],
      "metadata": {
        "colab": {
          "base_uri": "https://localhost:8080/",
          "height": 35
        },
        "id": "uACfY_eLaAiB",
        "outputId": "21381a3a-5fef-49ce-d661-8d3ad5d3be99"
      },
      "execution_count": 2,
      "outputs": [
        {
          "output_type": "execute_result",
          "data": {
            "text/plain": [
              "'python is fun'"
            ],
            "application/vnd.google.colaboratory.intrinsic+json": {
              "type": "string"
            }
          },
          "metadata": {},
          "execution_count": 2
        }
      ]
    },
    {
      "cell_type": "markdown",
      "source": [
        "함수 선언할때 함수에 대한 설명 ; docstring"
      ],
      "metadata": {
        "id": "eCvjM5sgafHQ"
      }
    },
    {
      "cell_type": "code",
      "source": [
        "def exam_doc(subj):\n",
        "  \"\"\"\n",
        "  함수에 대한 설명 (docstring)\n",
        "  \"\"\"\n",
        "  return None"
      ],
      "metadata": {
        "id": "wQ5AHUUtaTJb"
      },
      "execution_count": 3,
      "outputs": []
    },
    {
      "cell_type": "code",
      "source": [
        "exam_doc.__doc__"
      ],
      "metadata": {
        "colab": {
          "base_uri": "https://localhost:8080/",
          "height": 35
        },
        "id": "lmLQD7eHasC6",
        "outputId": "04da14b6-4025-47a5-f044-f93491637c9c"
      },
      "execution_count": 5,
      "outputs": [
        {
          "output_type": "execute_result",
          "data": {
            "text/plain": [
              "'\\n  함수에 대한 설명 (docstring)\\n  '"
            ],
            "application/vnd.google.colaboratory.intrinsic+json": {
              "type": "string"
            }
          },
          "metadata": {},
          "execution_count": 5
        }
      ]
    },
    {
      "cell_type": "markdown",
      "source": [
        "local & global variable"
      ],
      "metadata": {
        "id": "FLkkj2oabF5V"
      }
    },
    {
      "cell_type": "code",
      "source": [
        "def exam():\n",
        "  print(global_v)\n",
        "  return None\n",
        "\n",
        "global_v= '수박'\n",
        "exam()"
      ],
      "metadata": {
        "colab": {
          "base_uri": "https://localhost:8080/"
        },
        "id": "rEiYNDjsazfu",
        "outputId": "806c27d4-bb87-46b5-ce79-e1a9a945107d"
      },
      "execution_count": 6,
      "outputs": [
        {
          "output_type": "stream",
          "name": "stdout",
          "text": [
            "수박\n"
          ]
        }
      ]
    },
    {
      "cell_type": "code",
      "source": [
        "def exam2():\n",
        "  global_v= '바나나'\n",
        "  print(global_v)\n",
        "  return None\n",
        "\n",
        "exam2()"
      ],
      "metadata": {
        "colab": {
          "base_uri": "https://localhost:8080/"
        },
        "id": "f_O2G85-bIXs",
        "outputId": "e376c3c7-cad7-40a2-96ac-32d992fb2264"
      },
      "execution_count": 8,
      "outputs": [
        {
          "output_type": "stream",
          "name": "stdout",
          "text": [
            "바나나\n"
          ]
        }
      ]
    },
    {
      "cell_type": "code",
      "source": [
        "def exam3():\n",
        "  global global_v #함수 밖에서 선언된 변수를 가져올때 사용\n",
        "  global_v= '바나나' \n",
        "  print(global_v)\n",
        "  return None\n",
        "\n",
        "global_v= '수박'\n",
        "exam3()"
      ],
      "metadata": {
        "colab": {
          "base_uri": "https://localhost:8080/"
        },
        "id": "yw5R5vxxbWFT",
        "outputId": "2145e358-02e0-47c4-cd2d-0971c21c3db9"
      },
      "execution_count": 10,
      "outputs": [
        {
          "output_type": "stream",
          "name": "stdout",
          "text": [
            "바나나\n"
          ]
        }
      ]
    },
    {
      "cell_type": "markdown",
      "source": [
        "call back 함수\n",
        "- 함수를 args 파라미터로 설정해서 사용\n",
        "- 함수가 다른 함수를 호출하여 결과값을 실행\n",
        "  - 재귀함수에서 잘 사용됨"
      ],
      "metadata": {
        "id": "xJa16x5qbzRh"
      }
    },
    {
      "cell_type": "code",
      "source": [
        "def calc(func,a,b):\n",
        "  return func(a,b)\n",
        "\n",
        "def add(a,b):\n",
        "  return a+b\n",
        "\n",
        "def mul(a,b):\n",
        "  return a*b"
      ],
      "metadata": {
        "id": "KI5lHN0icBgc"
      },
      "execution_count": 12,
      "outputs": []
    },
    {
      "cell_type": "code",
      "source": [
        "calc(add,2,3), calc(mul,4,5)"
      ],
      "metadata": {
        "colab": {
          "base_uri": "https://localhost:8080/"
        },
        "id": "C_i3RaOFcCRq",
        "outputId": "af871ca2-0cdf-40ce-fa73-2d18cec47c21"
      },
      "execution_count": 13,
      "outputs": [
        {
          "output_type": "execute_result",
          "data": {
            "text/plain": [
              "(5, 20)"
            ]
          },
          "metadata": {},
          "execution_count": 13
        }
      ]
    },
    {
      "cell_type": "code",
      "source": [
        "def factorial(n):\n",
        "  if n == 1:\n",
        "    return 1\n",
        "  return n*factorial(n-1)\n",
        "\n",
        "print(factorial(5))"
      ],
      "metadata": {
        "colab": {
          "base_uri": "https://localhost:8080/"
        },
        "id": "xnB2SXZocceg",
        "outputId": "88869fda-2d3b-45cb-cdf1-0a4fc2ec2890"
      },
      "execution_count": 14,
      "outputs": [
        {
          "output_type": "stream",
          "name": "stdout",
          "text": [
            "120\n"
          ]
        }
      ]
    },
    {
      "cell_type": "markdown",
      "source": [
        "lambda function \n",
        "- 파라미터를 간단한 계산으로 리턴"
      ],
      "metadata": {
        "id": "8d6eaDeKclPs"
      }
    },
    {
      "cell_type": "code",
      "source": [
        "add = lambda a,b: a+b # parameter : return\n",
        "add(4,5)"
      ],
      "metadata": {
        "colab": {
          "base_uri": "https://localhost:8080/"
        },
        "id": "xWIpxkKWcowc",
        "outputId": "2c9a49ce-99b4-41b2-f7d0-ab305892312d"
      },
      "execution_count": 16,
      "outputs": [
        {
          "output_type": "execute_result",
          "data": {
            "text/plain": [
              "9"
            ]
          },
          "metadata": {},
          "execution_count": 16
        }
      ]
    },
    {
      "cell_type": "markdown",
      "source": [
        "문자열 가운데 출력"
      ],
      "metadata": {
        "id": "O0xsjsLDeId9"
      }
    },
    {
      "cell_type": "code",
      "source": [
        "text = 'start up university'\n",
        "a = int(len(text)/2)\n",
        "print('middle text:',text[a])"
      ],
      "metadata": {
        "colab": {
          "base_uri": "https://localhost:8080/"
        },
        "id": "9RCUGnWReFUp",
        "outputId": "eeae1eed-db61-4936-fced-fdb89c05c080"
      },
      "execution_count": 21,
      "outputs": [
        {
          "output_type": "stream",
          "name": "stdout",
          "text": [
            "middle text: u\n"
          ]
        }
      ]
    },
    {
      "cell_type": "markdown",
      "source": [
        "map 함수\n",
        "- 순서가 있는 데이터 집합에서 모든 값에 함수를 적용시켜 결과를 출력"
      ],
      "metadata": {
        "id": "JaHm4NRgegKp"
      }
    },
    {
      "cell_type": "code",
      "source": [
        "ls = [1,2,3,4]\n",
        "def odd_even(n):\n",
        "  return \"odd\" if n%2 else \"even\"\n",
        "\n",
        "list(map(odd_even,ls))"
      ],
      "metadata": {
        "colab": {
          "base_uri": "https://localhost:8080/"
        },
        "id": "GcaHRloFekcU",
        "outputId": "eda34933-af5b-4bc3-8bbf-e0ee84bc6478"
      },
      "execution_count": 23,
      "outputs": [
        {
          "output_type": "execute_result",
          "data": {
            "text/plain": [
              "['odd', 'even', 'odd', 'even']"
            ]
          },
          "metadata": {},
          "execution_count": 23
        }
      ]
    },
    {
      "cell_type": "code",
      "source": [
        "ls2 = [5,6,7,8,9,10]\n",
        "\n",
        "result = map(lambda x:2*x,ls2)\n",
        "print(list(result))"
      ],
      "metadata": {
        "colab": {
          "base_uri": "https://localhost:8080/"
        },
        "id": "UJ5ZBQZ9fMTu",
        "outputId": "b180462e-e6c6-4241-ec7d-7232f7281d43"
      },
      "execution_count": 26,
      "outputs": [
        {
          "output_type": "stream",
          "name": "stdout",
          "text": [
            "[10, 12, 14, 16, 18, 20]\n"
          ]
        }
      ]
    },
    {
      "cell_type": "code",
      "source": [
        "num = input('insert numbers:')\n",
        "res = num.split(\" \")\n",
        "res = list(map(int,res))\n",
        "res"
      ],
      "metadata": {
        "colab": {
          "base_uri": "https://localhost:8080/"
        },
        "id": "U5woR5ToffXH",
        "outputId": "0fefbb25-9980-4b71-f146-fade34b27f56"
      },
      "execution_count": 30,
      "outputs": [
        {
          "name": "stdout",
          "output_type": "stream",
          "text": [
            "insert numbers:3 4 5 6\n"
          ]
        },
        {
          "output_type": "execute_result",
          "data": {
            "text/plain": [
              "[3, 4, 5, 6]"
            ]
          },
          "metadata": {},
          "execution_count": 30
        }
      ]
    },
    {
      "cell_type": "markdown",
      "source": [
        "filter 함수\n",
        "- list 데이터에서 특정 조건에 맞는 것만 출력"
      ],
      "metadata": {
        "id": "yq1ovnERf4n4"
      }
    },
    {
      "cell_type": "code",
      "source": [
        "ls = range(10)\n",
        "list(filter(lambda x: True if x%2 else False, ls))"
      ],
      "metadata": {
        "colab": {
          "base_uri": "https://localhost:8080/"
        },
        "id": "khVDIlIpf3fL",
        "outputId": "8a3aac3f-150b-4a99-a262-3f3daac087bf"
      },
      "execution_count": 31,
      "outputs": [
        {
          "output_type": "execute_result",
          "data": {
            "text/plain": [
              "[1, 3, 5, 7, 9]"
            ]
          },
          "metadata": {},
          "execution_count": 31
        }
      ]
    },
    {
      "cell_type": "markdown",
      "source": [
        "reduce 함수\n",
        " - reduce(f, iterable)은 f함수를 iterable에 연속적으로 적용하여 값을 반환\n",
        " - list 데이터를 처음부터 순서대로 특정 함수를 실행하여 결과를 누적"
      ],
      "metadata": {
        "id": "QdD3gvWygLmq"
      }
    },
    {
      "cell_type": "code",
      "source": [
        "from functools import reduce\n",
        "ls = [3,4,5,6]\n",
        "reduce(lambda x,y:x+y,ls)"
      ],
      "metadata": {
        "colab": {
          "base_uri": "https://localhost:8080/"
        },
        "id": "vXO0P96mgXxB",
        "outputId": "20bd512d-4ca9-4ca5-8739-7573200a7bbb"
      },
      "execution_count": 33,
      "outputs": [
        {
          "output_type": "execute_result",
          "data": {
            "text/plain": [
              "18"
            ]
          },
          "metadata": {},
          "execution_count": 33
        }
      ]
    },
    {
      "cell_type": "markdown",
      "source": [
        "## 02. Class"
      ],
      "metadata": {
        "id": "4k4Gxvisgpk5"
      }
    },
    {
      "cell_type": "markdown",
      "source": [
        "class \n",
        "- 변수와 함수를 묶어놓은 개념\n",
        "- 클래스 선언 시 변수와 함수를 클래스 안에서 선언\n",
        "- instance : 클래스에서 만들어지는 개별적인 과제"
      ],
      "metadata": {
        "id": "L7jQ_V48g2b1"
      }
    },
    {
      "cell_type": "code",
      "source": [
        "class Account:\n",
        "  loan = 0\n",
        "  deposit = 0\n",
        "\n",
        "  def save(self,money):\n",
        "    self.deposit += money\n",
        "    print('현재 계좌 잔액은 {}원 입니다'.format(self.deposit))\n",
        "  def withdraw(self,money):\n",
        "    self.deposit -= money\n",
        "    print('인출 금액은 {}원 입니다. 현재 계좌 잔액은 {}원 입니다'.format(money, self.deposit))\n"
      ],
      "metadata": {
        "id": "J5LE4qirgrQ8"
      },
      "execution_count": 34,
      "outputs": []
    },
    {
      "cell_type": "code",
      "source": [
        "acc = Account()\n",
        "acc.loan = 100\n",
        "acc.deposit"
      ],
      "metadata": {
        "colab": {
          "base_uri": "https://localhost:8080/"
        },
        "id": "IqW7wttrg1hN",
        "outputId": "0a9e8367-1c48-441b-8267-c6990a611430"
      },
      "execution_count": 36,
      "outputs": [
        {
          "output_type": "execute_result",
          "data": {
            "text/plain": [
              "0"
            ]
          },
          "metadata": {},
          "execution_count": 36
        }
      ]
    },
    {
      "cell_type": "markdown",
      "source": [
        "생성자\n",
        "- 클래스의 인스터스 객체가 생성될 때 자동으로 호출되는 메소드\n",
        "- 생성자는 객체의 인스턴스 변수들을 정의하고 초기화함"
      ],
      "metadata": {
        "id": "DGcoCSGbitWP"
      }
    },
    {
      "cell_type": "code",
      "source": [
        "class Account:\n",
        "\n",
        "  def __init__(self,loan=0): #생성자\n",
        "    self.deposit=0\n",
        "    self.loan = loan\n",
        "    print('계좌가 개설되었습니다')\n",
        "\n",
        "  def save(self,money):\n",
        "    self.deposit += money\n",
        "    print('현재 계좌 잔액은 {}원 입니다'.format(self.deposit))\n",
        "  def withdraw(self,money):\n",
        "    self.deposit -= money\n",
        "    print('인출 금액은 {}원 입니다. 현재 계좌 잔액은 {}원 입니다'.format(money, self.deposit))"
      ],
      "metadata": {
        "id": "cnqtMFKIi2mc"
      },
      "execution_count": 37,
      "outputs": []
    },
    {
      "cell_type": "code",
      "source": [
        "acc3 = Account()"
      ],
      "metadata": {
        "colab": {
          "base_uri": "https://localhost:8080/"
        },
        "id": "P4kNYFPwjMws",
        "outputId": "d595f1af-44c6-4d18-a661-4519ffad00b4"
      },
      "execution_count": 38,
      "outputs": [
        {
          "output_type": "stream",
          "name": "stdout",
          "text": [
            "계좌가 개설되었습니다\n"
          ]
        }
      ]
    },
    {
      "cell_type": "code",
      "source": [
        "acc3.loan = 500\n",
        "acc3.loan"
      ],
      "metadata": {
        "colab": {
          "base_uri": "https://localhost:8080/"
        },
        "id": "MN_TZPBtjQI3",
        "outputId": "68b6dc10-6c2a-464e-f4f3-bbca80db6b98"
      },
      "execution_count": 39,
      "outputs": [
        {
          "output_type": "execute_result",
          "data": {
            "text/plain": [
              "500"
            ]
          },
          "metadata": {},
          "execution_count": 39
        }
      ]
    },
    {
      "cell_type": "markdown",
      "source": [
        "소멸자 \n",
        "- 객체가 사라질때 자동으로 호출되는 함수 (잘 사용되지 않음)"
      ],
      "metadata": {
        "id": "nh2w177rjZEv"
      }
    },
    {
      "cell_type": "code",
      "source": [
        "class Account:\n",
        "\n",
        "  def __init__(self,loan=0): #생성자\n",
        "    self.deposit=0\n",
        "    self.loan = loan\n",
        "    print('계좌가 개설되었습니다')\n",
        "\n",
        "  def save(self,money):\n",
        "    self.deposit += money\n",
        "    print('현재 계좌 잔액은 {}원 입니다'.format(self.deposit))\n",
        "  def withdraw(self,money):\n",
        "    self.deposit -= money\n",
        "    print('인출 금액은 {}원 입니다. 현재 계좌 잔액은 {}원 입니다'.format(money, self.deposit))\n",
        "\n",
        "  def debt(self,money):\n",
        "    self.deposit -= money\n",
        "    print('인출 금액은 {}원 입니다. 현재 계좌 잔액은 {}원 입니다'.format(money, self.deposit))\n",
        "\n",
        "\n",
        "  def __del__(self): #소멸자\n",
        "    print('계좌가 폐쇄되었습니다')"
      ],
      "metadata": {
        "id": "ZjXxOZmzjfbU"
      },
      "execution_count": null,
      "outputs": []
    }
  ]
}

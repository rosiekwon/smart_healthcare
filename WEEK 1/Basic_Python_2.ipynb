{
  "nbformat": 4,
  "nbformat_minor": 0,
  "metadata": {
    "colab": {
      "provenance": [],
      "authorship_tag": "ABX9TyMESuPGR2iAhRALacxY6zEH",
      "include_colab_link": true
    },
    "kernelspec": {
      "name": "python3",
      "display_name": "Python 3"
    },
    "language_info": {
      "name": "python"
    }
  },
  "cells": [
    {
      "cell_type": "markdown",
      "metadata": {
        "id": "view-in-github",
        "colab_type": "text"
      },
      "source": [
        "<a href=\"https://colab.research.google.com/github/rosiekwon/smart_healthcare/blob/main/Basic_Python_2.ipynb\" target=\"_parent\"><img src=\"https://colab.research.google.com/assets/colab-badge.svg\" alt=\"Open In Colab\"/></a>"
      ]
    },
    {
      "cell_type": "markdown",
      "source": [
        "## 01. Loop"
      ],
      "metadata": {
        "id": "IRUSbmP_z1Mb"
      }
    },
    {
      "cell_type": "markdown",
      "source": [
        "For 문"
      ],
      "metadata": {
        "id": "meCOYKAa4sMy"
      }
    },
    {
      "cell_type": "code",
      "execution_count": 3,
      "metadata": {
        "colab": {
          "base_uri": "https://localhost:8080/"
        },
        "id": "lhXvwJt5zb57",
        "outputId": "1d8825c9-f200-4565-fcd7-f9e0bdef8430"
      },
      "outputs": [
        {
          "output_type": "stream",
          "name": "stdout",
          "text": [
            "첫번째 숫자:24\n",
            "두번째 숫자:36\n",
            "최대공약수는 12입니다\n"
          ]
        }
      ],
      "source": [
        "# for문 사용하여 최대공약수 구하기\n",
        "a = int(input('첫번째 숫자:'))\n",
        "b = int(input('두번째 숫자:'))\n",
        "\n",
        "for i in range(max(a,b),1,-1): #-1은 거꾸로 \n",
        "  if a % i ==0 and b % i ==0:\n",
        "    print(f'최대공약수는 {i}입니다')\n",
        "    break\n",
        "  else:\n",
        "    continue\n"
      ]
    },
    {
      "cell_type": "code",
      "source": [
        "member = [['VVIP',50000],['VIP',30000],['Platinum',20000],['Family',10000]]\n",
        "\n",
        "for key, value in member:\n",
        "    print(f'{key}등급입니다')\n",
        "    if key == 'VVIP' or key == 'VIP':\n",
        "      print('발렛파킹이 가능합니다')\n",
        "    elif key == 'Platinum':\n",
        "      print('우대주차장에 주차가 가능합니다')\n",
        "    else:\n",
        "      print('지하 12층으로 가세요')"
      ],
      "metadata": {
        "colab": {
          "base_uri": "https://localhost:8080/"
        },
        "id": "17KCqf_W2DVa",
        "outputId": "58fc258b-3aaa-460c-b31f-c21160d49cab"
      },
      "execution_count": 15,
      "outputs": [
        {
          "output_type": "stream",
          "name": "stdout",
          "text": [
            "VVIP등급입니다\n",
            "발렛파킹이 가능합니다\n",
            "VIP등급입니다\n",
            "발렛파킹이 가능합니다\n",
            "Platinum등급입니다\n",
            "우대주차장에 주차가 가능합니다\n",
            "Family등급입니다\n",
            "지하 12층으로 가세요\n"
          ]
        }
      ]
    },
    {
      "cell_type": "markdown",
      "source": [
        "While 문"
      ],
      "metadata": {
        "id": "uBn3Os_O4uwl"
      }
    },
    {
      "cell_type": "code",
      "source": [
        "#10! factorial 계산하기\n",
        "i = 1\n",
        "factorial = 1\n",
        "\n",
        "while i<10:\n",
        "  factorial = factorial * i \n",
        "  i = i+1\n",
        "\n",
        "print(f'10!은 {factorial}입니다')"
      ],
      "metadata": {
        "colab": {
          "base_uri": "https://localhost:8080/"
        },
        "id": "1CAujm9f4fgb",
        "outputId": "6f0d1f4c-e769-47cb-d48f-ae31e4783702"
      },
      "execution_count": 16,
      "outputs": [
        {
          "output_type": "stream",
          "name": "stdout",
          "text": [
            "10!은 362880입니다\n"
          ]
        }
      ]
    },
    {
      "cell_type": "code",
      "source": [
        "#각자리수합 계산하기\n",
        "\n",
        "num = int(input('숫자를 입력하세요'))\n",
        "sum = 0\n",
        "\n",
        "while num > 0:\n",
        "  digit = num%10\n",
        "  sum += digit\n",
        "  num //= 10\n",
        "\n",
        "print(f'자리 수의 합은 {sum}입니다.')"
      ],
      "metadata": {
        "colab": {
          "base_uri": "https://localhost:8080/"
        },
        "id": "H-DNug1O6RJh",
        "outputId": "81c67d29-9220-44cf-c7fb-3dc71816b8d3"
      },
      "execution_count": 32,
      "outputs": [
        {
          "output_type": "stream",
          "name": "stdout",
          "text": [
            "숫자를 입력하세요2134\n",
            "자리 수의 합은 10입니다.\n"
          ]
        }
      ]
    },
    {
      "cell_type": "markdown",
      "source": [
        "## 02. Function"
      ],
      "metadata": {
        "id": "ur2TUfF68R1S"
      }
    },
    {
      "cell_type": "code",
      "source": [
        "def score(test):\n",
        "  point = 0\n",
        "  for s in test:\n",
        "    point+=s\n",
        "  return point"
      ],
      "metadata": {
        "id": "PsennPAw8YpI"
      },
      "execution_count": 33,
      "outputs": []
    },
    {
      "cell_type": "code",
      "source": [
        "test = [100,50,40,70,80,30]\n",
        "print(score(test))"
      ],
      "metadata": {
        "colab": {
          "base_uri": "https://localhost:8080/"
        },
        "id": "BsPNLbYL8fl7",
        "outputId": "db269d96-e881-4818-c52e-edddcd7715c9"
      },
      "execution_count": 34,
      "outputs": [
        {
          "output_type": "stream",
          "name": "stdout",
          "text": [
            "370\n"
          ]
        }
      ]
    },
    {
      "cell_type": "markdown",
      "source": [
        "가변인수 - 파라미터 수를 특정할 수 없을 경우 사용\n",
        "* *args는 가변길이 인수 전달, 튜플타입\n",
        "* **kwargs는 키워드 인수전달, 딕셔너리 타입"
      ],
      "metadata": {
        "id": "nKSxeIff_oCB"
      }
    },
    {
      "cell_type": "code",
      "source": [
        "def hap(num,*args, **kwargs):\n",
        "  print(type(num),num)\n",
        "  print(type(args),args)\n",
        "  print(type(kwargs),kwargs)\n",
        "\n",
        "hap(1,2,3,5,num1=5,num2=9) "
      ],
      "metadata": {
        "colab": {
          "base_uri": "https://localhost:8080/"
        },
        "id": "lzmOlHln_Bub",
        "outputId": "75cefc01-4fd0-4676-aee3-1207b7447bf7"
      },
      "execution_count": 39,
      "outputs": [
        {
          "output_type": "stream",
          "name": "stdout",
          "text": [
            "<class 'int'> 1\n",
            "<class 'tuple'> (2, 3, 5)\n",
            "<class 'dict'> {'num1': 5, 'num2': 9}\n"
          ]
        }
      ]
    },
    {
      "cell_type": "code",
      "source": [
        "def multiply(n1,n2,n3):\n",
        "  return n1*n2**n3\n",
        "\n",
        "ls = [2,3,4]\n",
        "multiply(*ls)"
      ],
      "metadata": {
        "colab": {
          "base_uri": "https://localhost:8080/"
        },
        "id": "2eM_WyBRAoKb",
        "outputId": "f0891bb1-48b6-498b-bf63-e923dc0545f0"
      },
      "execution_count": 41,
      "outputs": [
        {
          "output_type": "execute_result",
          "data": {
            "text/plain": [
              "162"
            ]
          },
          "metadata": {},
          "execution_count": 41
        }
      ]
    }
  ]
}

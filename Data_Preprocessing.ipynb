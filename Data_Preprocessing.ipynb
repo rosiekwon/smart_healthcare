{
  "nbformat": 4,
  "nbformat_minor": 0,
  "metadata": {
    "colab": {
      "provenance": [],
      "authorship_tag": "ABX9TyNZbISWV+9+RPzLtmO9+7dV",
      "include_colab_link": true
    },
    "kernelspec": {
      "name": "python3",
      "display_name": "Python 3"
    },
    "language_info": {
      "name": "python"
    }
  },
  "cells": [
    {
      "cell_type": "markdown",
      "metadata": {
        "id": "view-in-github",
        "colab_type": "text"
      },
      "source": [
        "<a href=\"https://colab.research.google.com/github/rosiekwon/smart_healthcare/blob/main/Data_Preprocessing.ipynb\" target=\"_parent\"><img src=\"https://colab.research.google.com/assets/colab-badge.svg\" alt=\"Open In Colab\"/></a>"
      ]
    },
    {
      "cell_type": "code",
      "execution_count": 1,
      "metadata": {
        "colab": {
          "base_uri": "https://localhost:8080/",
          "height": 35
        },
        "id": "uiLOB-7P-lUp",
        "outputId": "ce813b87-ec23-4894-e7d0-a19e8732f415"
      },
      "outputs": [
        {
          "output_type": "execute_result",
          "data": {
            "text/plain": [
              "'/content'"
            ],
            "application/vnd.google.colaboratory.intrinsic+json": {
              "type": "string"
            }
          },
          "metadata": {},
          "execution_count": 1
        }
      ],
      "source": [
        "import os\n",
        "os.getcwd() #현재 실행되고 있는 파일의 경로"
      ]
    },
    {
      "cell_type": "code",
      "source": [
        "#directory list 확인\n",
        "os.listdir()"
      ],
      "metadata": {
        "colab": {
          "base_uri": "https://localhost:8080/"
        },
        "id": "s0QUoYz6-q5J",
        "outputId": "848f69cd-bf8f-4f8a-e5a5-435ff03a8b97"
      },
      "execution_count": 2,
      "outputs": [
        {
          "output_type": "execute_result",
          "data": {
            "text/plain": [
              "['.config', 'sample_data']"
            ]
          },
          "metadata": {},
          "execution_count": 2
        }
      ]
    },
    {
      "cell_type": "code",
      "source": [
        "os.path.exists('/content/sample_data/mnist_test.csv')"
      ],
      "metadata": {
        "colab": {
          "base_uri": "https://localhost:8080/"
        },
        "id": "XCPt-OZk-wmP",
        "outputId": "b081667e-2759-47b9-c081-d5e957dfc72e"
      },
      "execution_count": 3,
      "outputs": [
        {
          "output_type": "execute_result",
          "data": {
            "text/plain": [
              "True"
            ]
          },
          "metadata": {},
          "execution_count": 3
        }
      ]
    },
    {
      "cell_type": "code",
      "source": [
        "from google.colab import drive\n",
        "drive.mount('/content/drive')"
      ],
      "metadata": {
        "colab": {
          "base_uri": "https://localhost:8080/"
        },
        "id": "K-SH1lB1_Jil",
        "outputId": "9aace206-a533-49e5-a0ac-cd67e64d48eb"
      },
      "execution_count": 4,
      "outputs": [
        {
          "output_type": "stream",
          "name": "stdout",
          "text": [
            "Mounted at /content/drive\n"
          ]
        }
      ]
    },
    {
      "cell_type": "code",
      "source": [
        "os.path.basename('./drive/MyDrive'), os.path.dirname('./drive/MyDrive')"
      ],
      "metadata": {
        "colab": {
          "base_uri": "https://localhost:8080/"
        },
        "id": "UxqrIxzH_AXn",
        "outputId": "d351c257-e51f-4f67-cc53-3f80d541d572"
      },
      "execution_count": 5,
      "outputs": [
        {
          "output_type": "execute_result",
          "data": {
            "text/plain": [
              "('MyDrive', './drive')"
            ]
          },
          "metadata": {},
          "execution_count": 5
        }
      ]
    },
    {
      "cell_type": "code",
      "source": [
        "os.path.join(os.path.basename('./drive/MyDrive'), os.path.dirname('./drive/MyDrive'))"
      ],
      "metadata": {
        "colab": {
          "base_uri": "https://localhost:8080/",
          "height": 35
        },
        "id": "1kFPfePm_XDL",
        "outputId": "5bd3b9bf-8280-41ff-86c9-603a077a7d3d"
      },
      "execution_count": 6,
      "outputs": [
        {
          "output_type": "execute_result",
          "data": {
            "text/plain": [
              "'MyDrive/./drive'"
            ],
            "application/vnd.google.colaboratory.intrinsic+json": {
              "type": "string"
            }
          },
          "metadata": {},
          "execution_count": 6
        }
      ]
    },
    {
      "cell_type": "code",
      "source": [
        "#make a directory\n",
        "os.mkdir('./temp')"
      ],
      "metadata": {
        "id": "Qlv_Hizu_jsl"
      },
      "execution_count": 10,
      "outputs": []
    },
    {
      "cell_type": "code",
      "source": [
        "os.rename('/content/sample_data/anscombe.json','/content/sample_data/temp.json')"
      ],
      "metadata": {
        "id": "E2iaE6py_rZE"
      },
      "execution_count": 11,
      "outputs": []
    },
    {
      "cell_type": "code",
      "source": [
        "for curDir, dirs, file in os.walk(os.getcwd(),topdown=True):\n",
        "  print(curDir,dirs, file)\n",
        "#os.walk() ; 안에 있는 경로 및 모든 파일 보여줌"
      ],
      "metadata": {
        "colab": {
          "base_uri": "https://localhost:8080/"
        },
        "id": "wCy5PYVn__ZP",
        "outputId": "653912fe-a09f-4063-c7b8-3c55e263bcb7"
      },
      "execution_count": 13,
      "outputs": [
        {
          "output_type": "stream",
          "name": "stdout",
          "text": [
            "/content ['.config', 'hi', 'drive', 'sample_data', 'temp'] []\n",
            "/content/.config ['logs', 'configurations'] ['.last_survey_prompt.yaml', 'gce', 'active_config', 'config_sentinel', '.last_opt_in_prompt.yaml', '.last_update_check.json']\n",
            "/content/.config/logs ['2022.10.07'] []\n",
            "/content/.config/logs/2022.10.07 [] ['13.33.29.962578.log', '13.34.49.852351.log', '13.34.17.754134.log', '13.33.55.059309.log', '13.34.26.675197.log', '13.34.50.628315.log']\n",
            "/content/.config/configurations [] ['config_default']\n",
            "/content/hi [] []\n",
            "/content/drive ['.file-revisions-by-id', 'MyDrive', '.shortcut-targets-by-id', '.Trash-0'] []\n",
            "/content/drive/.file-revisions-by-id [] []\n",
            "/content/drive/MyDrive ['Colab Notebooks', 'application', 'R=VD', 'CV', 'UM fall 2020', 'UM Fall 2021', '대외활동', 'NIPA', '서류', 'KHU digital health', 'KMU', '스타트업유니버시티'] ['ASCO  ESMO.gdoc', 'PRISMA NGS concordance .gdoc', 'IHCC_ce_zscore-bin0.1_spacing3_cluster3-test.ipynb', 'plot_agglomerative_dendrogram.ipynb', 'img.nrrd', 'lab1.nrrd', 'Untitled Diagram.drawio', 'Process Development Engineer.gdoc', '데일리 플래너 - PlanDoSee.pptx의 사본.pptx', '전치사_removed.pdf', 'KOSAIM_SummerSchool_2021_Handson_02_Segmentation_210814.ipynb', 'Figure1.ipynb', 'csv-Acutehepat-set (1).csv', 'csv-Acutehepat-set (2).csv', 'csv-severeacut-set.csv', 'insight-guide Gallup analytics.pdf', 'My future of after 10 years as women scientist.docx', '학회참석준비.gdoc']\n",
            "/content/drive/MyDrive/Colab Notebooks ['sample_data'] ['datascience1.ipynb', 'NRRD hisogram_cropped img.ipynb', 'IHCC_ce_zscore-bin0.1_spacing3_cluster3-test.ipynb', 'ARIMA.ipynb', 'Basic Python_1.ipynb', 'Basic_python_3.ipynb', 'Numpy.ipynb', 'Pandas (1).ipynb', 'Pandas.ipynb', 'Pandas_titanic data.ipynb', 'Data Preprocessing.ipynb']\n",
            "/content/drive/MyDrive/Colab Notebooks/sample_data [] ['README.md', 'anscombe.json', 'california_housing_train.csv', 'california_housing_test.csv', 'mnist_test.csv']\n",
            "/content/drive/MyDrive/application [] ['장학내역.png', '고등학교성적 (4).jpg', '고등학교성적 (3).jpg', '고등학교성적 (2).jpg', '고등학교성적 (1).jpg', '재학증명.jpg', 'transcript Korea Uni.jpg', 'KWJ-eng-mich,purdue3.docx', 'UW essay.docx', 'service learning.jpg', 'University of Wisconsin essay #1.docx', 'VANK community.docx', '~$iversity+of+Wisconsin+essay.docx', 'Recommendation letter.docx', '편입+에세이.docx', '~$ONEJ SYLLAB.docx', '~$nernal chemistry syllabus.docx', 'KWONEJ SYLLAB.docx', 'University+of+Michigan+revised-1.docx', 'University.of Wisconsin.essay..docx', 'University of Michigan FINAL.docx', 'SOP_Kwon (NYU).docx', 'University+of+Michigan..docx', '-University of Michigan..docx', 'University of Texas Austin.docx', 'OUTLINE.docx']\n",
            "/content/drive/MyDrive/R=VD [] ['2018+monthly+ver.1.pdf', '2019 일상#매일행복한삶.hwp', '2018 일상.hwp', '꽃길만 걷게 해줄 2020.hwp', 'Bucket List.hwp', '2021. have a nice day.docx', '항상 긍정적이며 감사하며 살자.pptx', '재무목표 로드맵.xlsx']\n",
            "/content/drive/MyDrive/CV [] ['Kwon Eun Jin application form.doc', 'EunJin_Kwon_Resume 2019.pdf', 'resume samples (4).dotx', 'resume samples (2).dotx', 'resume samples (1).dotx', 'KakaoTalk_20191223_005810168.jpg', 'KakaoTalk_20191223_005810168_01.jpg', 'KakaoTalk_20191223_005810168_02.jpg', 'KakaoTalk_20191223_005810168_03.jpg', 'KakaoTalk_20191223_005810168_04.jpg', 'KakaoTalk_20191223_005810168_05.jpg', 'KakaoTalk_20191223_005810168_06.jpg', 'unofficial transcript.pdf', 'Undergraduate Student sample cover letter.doc', 'Recommendation Letter From Teacher Template 01.doc', 'Internship-Application-Sample.zip', 'Resume-Kwon, Eunjin.pdf', 'Cover email_Eunjin Kwon.pdf', '국립암센터.docx', '권은진 이력서.docx', '저는 항상 주어진 역할을 사명을 가지고 노력하는 사람입니다.docx', '자기소개서.txt', '권은진 나노종합기술원 지원.hwp', '사람인자소서.docx', 'updated Resume 2021.pdf', '에이조스바이오 권은진.gslides', 'Eunjin Kwon resume, 2021.pdf', 'Rosie Eunjin Kwon resume.pdf', 'interview(career fair).docx', 'Cover email_Eunjin Kwon.docx', 'Eunjin Kwon cover letter.docx', 'Eunjin Kwon resume.pdf', 'EunJin Kwon biomedical Engineer coverletter.docx', 'Allen Institute.docx', 'LETTER OF INTENT.docx', 'SOP - Scripps.docx', 'Eunjin Kwon biomedicalengineer coverletter.docx', 'COVER LETTER.docx', 'Eunjin Kwon resume (1).docx', '권로지.docx', 'Eunjin Kwon resume.docx']\n",
            "/content/drive/MyDrive/UM fall 2020 ['ENG101', 'IOE333', 'MSE250'] ['research method.docx', 'proposed method.pdf']\n",
            "/content/drive/MyDrive/UM fall 2020/ENG101 ['MATLAB', 'C++'] ['ENGR 101 textbook.pdf', 'ENGR 101 Lab 2_ Matrices and Functions.pdf', 'ENGR 101Project 1 Specifications.pdf', 'ENGR 101 Project 2 Specifications.pdf', 'ENGR 101 MATLAB Debugging Practice.pdf', 'ENGR 101 Project 3 Specifications.pdf', 'environmentalSummary.pdf', 'engr101f19_exam1_questions.pdf', 'engr101f19_exam1_solutions.pdf', 'engr101w20_exam1_questions.pdf', 'engr101w20_exam1_solutions.pdf', 'Engr 101 Lab 7.pdf', 'Project 4 Flowchart - Eunjin Kwon.pdf', 'Honor Pledge.pdf', 'Project 5 Specs.pdf', 'ENGR 101 Lab 10.pdf', 'Project 5 Starter Pseudocode.pdf', 'ENGR101 Project 6 Specs.pdf', 'Project 6 Tips & Tricks.pdf', 'Project 6 project design.pdf', 'points.cpp', 'engr101f19_exam2_questions.pdf', 'engr101f19_exam2_solutions.pdf', 'engr101w19_exam2_questions.pdf', 'engr101w19_exam2_solutions.pdf']\n",
            "/content/drive/MyDrive/UM fall 2020/ENG101/MATLAB ['lab6', 'lab1', 'RUNSTONE', 'demo', 'project3', 'project2', 'project1', 'lab5'] ['boat_color.png', 'almostEqual.m', 'adjust_contrast.m', 'daysLeftInMonth.m', 'isLeapYear.m', 'data.cvs.txt', 'hi.txt', 'SculptureWhite.png', 'color.m']\n",
            "/content/drive/MyDrive/UM fall 2020/ENG101/MATLAB/lab6 [] ['6_SchoolsAndCollegesUndergraduateCreditHours2016.csv', '5_SchoolsAndCollegesUndergraduateCreditHours2000.csv', '4_EnrollmentForSchoolsAndColleges.csv', 'dataanalysis.m']\n",
            "/content/drive/MyDrive/UM fall 2020/ENG101/MATLAB/lab1 [] ['fuelcalculator.m', 'AlltheData.mat', 'daily_samples.csv', 'ESP.m', 'monthlyAverage.m', 'AnalyzeESP.m', 'football19.csv', 'actualLoad4.p', 'analyze_football.m', 'actualLoad1.p', 'actualLoad3.p', 'actualLoad2.p', 'calculateactualLoad.m', 'runestone_6.m']\n",
            "/content/drive/MyDrive/UM fall 2020/ENG101/MATLAB/RUNSTONE [] ['rocks.csv', 'analyzeRocks.m', 'boat_gray.png', 'adjust_contrast.m', 'cities.xlsx', 'newBatteryLife.mat', 'MakeCityLatitudeHistogram.m', 'CityLatitudes.m', 'SampleErrorbarPlot.m', 'SampleErrorPlot.png', 'AnalyzeBatteries.m', 'throwing_an_item.m', 'roll_dices.m', 'bathymetryData.mat', 'UpNorth.m', 'dist2green.m', 'LandOnGreen.m', 'rover_data.csv', 'plot_3D.m', 'words.txt', 'loadWords.m', 'wordGame.m', 'scramble.m', 'playRound.m', 'wordGame_solution.m', 'rover.m', 'image_5.m', 'Untitled5.m']\n",
            "/content/drive/MyDrive/UM fall 2020/ENG101/MATLAB/demo [] ['election.mat', 'ElectionDemoStarterCode.m', 'bird.m', 'makeFlag.m', 'wageCalculator.m', 'effPower.m', 'closeGames.m', 'revenuebyVolume.m', 'performance.m', 'plotperformance.m', 'grays.png', 'spinnerProb.m']\n",
            "/content/drive/MyDrive/UM fall 2020/ENG101/MATLAB/project3 [] ['windSpeedTestCase.csv', 'waveHeightTestCase.csv', 'lon.csv', 'lat.csv', 'buoyTestCase.csv', 'environmentalSummary.pdf', 'windtest.m', 'analyzeWindFarm.m', 'makePlots.m']\n",
            "/content/drive/MyDrive/UM fall 2020/ENG101/MATLAB/project2 [] ['brain.jpg', 'display_settings.p', 'dome_area.jpg', 'GPS_data.p', 'scan_brain.p', 'scan_radiation.p', 'WatchDisplay.m', 'heatmap.m', 'removeNoise.m', 'zones.m', 'heatmap_local.png', 'zones_local.png', 'detectTumor.m']\n",
            "/content/drive/MyDrive/UM fall 2020/ENG101/MATLAB/project1 [] ['TestCriticalLoad.m', 'TestActualLoad.m', 'TestAdditionalPallets.m', 'TestParkingRevenue.m', 'parkingRevenue.m', 'actualLoad.m', 'criticalLoad.m', 'additionalPallets.m']\n",
            "/content/drive/MyDrive/UM fall 2020/ENG101/MATLAB/lab5 [] ['ephemerides.xlsx', 'ENGR 101 lab5_wave.mat', 'megdr_info.csv', 'online.xlsx', 'read_megdr.m', 'tempData.mat', 'histograms.m', 'lab5_wave.png', 'lab5_wave.m', 'lab5_comet.m']\n",
            "/content/drive/MyDrive/UM fall 2020/ENG101/C++ ['runestone', 'project', 'lab', 'demo', '.vscode'] ['testData.txt', 'ducks.txt', 'vector.cpp', 'cpp', 'points.h', 'points.cpp', 'closestPoints.cpp', 'test2D.txt', 'ducks.cpp', 'ducks', 'weekly.cpp', 'weekly', 'position.cpp', 'position', 'count.cpp', 'count', 'whatsthebest.txt', 'f19num3.cpp', 'f19num3', 'f19num4.cpp', 'codingf19', 'function', 'w19num3.cpp', 'w19num6.cpp', 'story.txt', 'exam2.cpp', 'exam2', 'ships.txt', 'ship.cpp', 'ship', 'hail.txt', 'practice.cpp', 'practice']\n",
            "/content/drive/MyDrive/UM fall 2020/ENG101/C++/runestone [] ['cipher.txt', 'posts.txt', 'ducks.txt', 'ducks', 'analyzeData.cpp', 'analyzeData', 'ducks.cpp', 'printVectorOfVectors', 'printVectorOfVectors.cpp']\n",
            "/content/drive/MyDrive/UM fall 2020/ENG101/C++/project ['project 5', 'project 6'] ['calcBrakeCoef.cpp', 'brakeCoef.cpp', 'keywordWeights.txt', 'report.txt', 'practice', 'essay.txt', 'class_info.txt', 'teachersPet.cpp']\n",
            "/content/drive/MyDrive/UM fall 2020/ENG101/C++/project/project 5 [] ['evaluateReviews.cpp.starter', 'review00.txt', 'review01.txt', 'reviews.cpp.starter', 'reviews.h', 'sample_report.txt', 'unit_tests.cpp', 'review02.txt', 'review03.txt', 'review04.txt', 'unit_tests', 'reviews.cpp', 'evaluateReviews', 'evaluateReviews.cpp']\n",
            "/content/drive/MyDrive/UM fall 2020/ENG101/C++/project/project 6 [] ['location_1_test.txt', 'location_2_test.txt', 'name_1_test.txt', 'name_2_test.txt', 'planRoute.cpp', 'planRoute', 'journey.txt']\n",
            "/content/drive/MyDrive/UM fall 2020/ENG101/C++/lab [] ['lab8_distance.cpp', 'lab8_selection.cpp', 'test_vector.cpp', 'Boats.txt', 'vector101.cpp', 'vector101.h', 'selectContainerships.cpp', 'dictionary.h', 'spellcheck.cpp', 'rover_data.txt', 'roverMission', 'roverMission_bug1.cpp', 'roverMission_bug1', 'roverMission_bug2.cpp', 'roverMission_bug2', 'roverMission_bug3.cpp', 'roverMission_bug3', 'vector.cpp', 'vector', 'roverMission.cpp']\n",
            "/content/drive/MyDrive/UM fall 2020/ENG101/C++/demo [] ['smile.cpp', 'smile', 'wreckMSU.cpp', 'findmax.cpp', 'findmax', 'guessNumber', 'dome.txt', 'replace_dome.cpp', 'replace_dome', 'dome_new.txt', 'caesar.h', 'caesar.cpp', 'document.h', 'encryptDocument.cpp', 'document.cpp', 'guessNumber.cpp', 'population.txt', 'population.cpp', 'population', 'decrypt', 'decrypt.cpp', 'contact.cpp', 'contact']\n",
            "/content/drive/MyDrive/UM fall 2020/ENG101/C++/.vscode [] ['launch.json', 'c_cpp_properties.json', 'settings.json']\n",
            "/content/drive/MyDrive/UM fall 2020/IOE333 [] ['rosiekw_IOE333HW1.docx', 'rosiekw_Exam01_2020F.doc', 'rosiekw_IOE333 HW3.docx', 'rosiekw_IOE333 HW4.docx', 'rosiekw_IOE333 EER 1.docx', 'rosiekw_Exam02_2020F.docx', 'rosiekw_IOE333EER3_F20.docx', 'IOE333HW2.doc', 'rosiekw_IOE333 HW6.docx', 'rosiekw_Exam3_2020F.docx', 'rosiekw_IOE333 EER 2 Fall 2020.docx', 'rosiekw_IOE333HW2.docx', 'rosiekw_IOE333 EER 4 Fall 2020.docx', 'rosiekw_IOE333 HW7.docx']\n",
            "/content/drive/MyDrive/UM fall 2020/MSE250 [] ['MSE250-F2020-Info-Syll.docx', 'MSE250-F2020-HW1.pdf', 'MSE250.pdf', 'MSE250-F2020-HW3 (1).pdf', 'MSE250-F2020-Quiz1-103-figures.pdf', 'MSE250-F2020-Quiz1-remote(103_803) Eunjin Kwon.doc', 'MSE250-F2020-HW4 (1).pdf', 'MSE250-F2020-Exam1-coverage.pdf', 'MSE250-F2020-HW5.pdf', 'MSE250-F2020-Exam1-equations.pdf', 'MSE250-F2020-HW4solution.pdf', 'MSE250-F2020-HW3solution.pdf', 'MSE250-F2020-HW3.pdf', 'MSE250-F2020-Exam1-figures.pdf', 'Eunjin Kwon MSE250-F2020-Exam1-remote.pdf', 'MSE250-F2020-Exam1-remote.pdf', 'MSE250-F2020-Exam1-remote.doc', 'MSE250-HW6.doc', 'MSE250-F2020-Quiz2-Figures+equations.pdf', 'MSE250-F2020-Quiz2.doc', 'MSE250-F2020-HW7.pdf', 'MSE250-F2020-HW8-solutions.pdf', 'MSE250-F2020-HW8.doc', 'MSE250-F2020-Exam 2-Figures.pdf', 'MSE250-F2020-Exam2-remote.docx', 'MSE250-F2020-HW10-2.doc', 'MSE250-F2020-Quiz3.doc', 'MSE250-F2020-FinalExam.docx', 'MSE250-F2020-FinalExam.rosiekw.pdf']\n",
            "/content/drive/MyDrive/UM Fall 2021 ['ENGR 100', 'BME 516', 'BME 418', 'BME 241'] ['Taylor_expansion.m', 'Energy.m', 'taylor_series.m', 'fractionalerror.m', 'strain.m', 'energydensity.m', 'ForLoop.m', 'CytoskeletalAssembly.m', 'growthrates.m', 'growthrateATP.m', 'Computed Tomography Project.docx']\n",
            "/content/drive/MyDrive/UM Fall 2021/ENGR 100 [] ['Lab4_writeSerialToCSV.py', 'lab4.mp4', 'lab4.jpg', 'Kwon_RosieEunjin_0_404_Lab4_ENGR100.csv', 'Lab5_RULAworksheet.pdf', 'Lab5_Task Analysis Worksheet.docx', 'Kwon_RosieEunjin_0_101_Lab4_ENGR100.csv', 'Lab 6 Worksheet.pdf', 'ethical considerations.docx', 'Lab 6 Worksheet .pdf', 'Lab 6 Worksheet (1)-converted.docx', 'Midterm Exam 2020 - Solution Combined.pdf', 'Midterm exam - Tech Comm - Handout.pdf', 'Midterm Exam 2021 - Technical - Handout.pdf', 'Midterm Exam - Tech Comm - Submission Sheet.pdf', 'Midterm Exam - Technical - Submission Sheet.pdf', 'Peer evaluation.docx', 'Extra credits.docx', 'Lab9_reflection.docx', 'Final Project - Handout.pdf', 'E100 Citation & Reference Guide UPDATED.pdf', 'IMG_0595.JPG']\n",
            "/content/drive/MyDrive/UM Fall 2021/BME 516 ['PROJECT 1', 'project3'] ['bme516_hw2_2021.pdf', 'mriproj_2021.pdf', 'ctproj.pdf', 'final_04.pdf', 'BME 516 MRIproject.docx', 'Statistics HW 5-Eunjin Kwon-feedback.txt', 'bme516_hw3_2021-1.pdf', 'CTproject_21.pdf', 'mys21.mat', 'fig1.png', 'backprojection.png', 'filter.png', 'Interpolation.png', 'FI reconstruction image with ZP.png', 'profile.png', 'ct_template_21.m', 'mysterious image.png', 'CT_project.m', 'Computed Tomography Project.docx', 'Ultrasound project.docx', 'Final_516_2021-1.pdf']\n",
            "/content/drive/MyDrive/UM Fall 2021/BME 516/PROJECT 1 [] ['object21.mat', 'ft.m', 'ft2.m', 'ift.m', 'ift2.m', 'blochsim_516.m', '0.jpg', 'mr_sol_21_p1.m', 'img(kx,ky).jpg', 'real(kx,ky).jpg', '1.jpg', '2.jpg', 'number1_2.m', '3.jpg', '4a.jpg', '4b.jpg', 'six.m', '6.jpg', '7.jpg', '8.jpg', 'ex.m', 'number3_4.m', '10a-.jpg', 'number6.m', 'number5.m', '5.jpg', '10b.jpg', '10a.jpg', '11a.jpg', '11b.jpg', 'number7_9.m', 'number10_11.m']\n",
            "/content/drive/MyDrive/UM Fall 2021/BME 516/project3 [] ['radon_rotate.m', 'bproj.m', 'ft-1.m', 'ift-1.m', 'baseband.m', 'data21.mat', 'Readme.pdf', 'usproj_2021.pdf', 'showimage3.m', 'r=18.jpg', 'r=9.jpg', '1.jpg', '2.jpg', 'template_scancon.m', 'fourier.m', 'scancon.m', 'beamform.m', 'template_beamform.m', 'sub.m', '600.fig']\n",
            "/content/drive/MyDrive/UM Fall 2021/BME 418 ['EXAM', 'Homework'] ['HW2 - Cytoskeletal Assembly and Membranes.pdf', 'HIV stim cytokine data.xlsx', 'cytokine.m', 'data.mat', 'BME 418 Final Project assignment.pdf', 'homework6.m', 'HW 6 - Principal Component Analysis of Paracrine Immune Signaling.docx', 'workspace.mat', 'LR_ODE.m', 'LR_Compute.m', 'complex.png', 'Final_ODE.m', 'Final_Compute.m', 'BIOMEDE 418 Final project.docx']\n",
            "/content/drive/MyDrive/UM Fall 2021/BME 418/EXAM [] ['Equations for Exam 1.pdf', 'Exam 1 Review.pdf', 'Exam 2 review sheet.pdf']\n",
            "/content/drive/MyDrive/UM Fall 2021/BME 418/Homework [] ['HW 1 - FINAL_Equilibrium_Energy_Cytoskeleton.docx.docx', 'annotated-HW%201%20-%20FINAL_Equilibrium_Energy_Cytoskeleton.docx.pdf', 'HW 4 - Matlab Model of Protein Signaling (1).pdf', 'BME 418 Homework 4.docx', 'BME 418 HW 5.docx']\n",
            "/content/drive/MyDrive/UM Fall 2021/BME 241 [] ['Collections.pdf', 'BME 241 Lab 3.pdf', 'Stats - 5-3 Discrete Random Variables.pdf', 'BME 241 Lab 4 (Intro to Libraries and Stats).pdf', 'homework4.ipynb', 'Week 5 - Solutions.pdf', 'BME 241 Lab 6 (t-distributions, Hypothesis Testing).pdf', 'homework5.ipynb', 'BME 241 Lab 7 (CDFs, Error, Confidence Intervals, and Power).pdf', 'homework6.ipynb', '_BME 241 Lab 9 (Linear Regression).pdf', 'good_data_rosiekw.csv', 'homework7.ipynb', 'MyFile_rosiekw.txt', 'LowPrimeData.txt', 'HighPrimeData.txt', 'Drug Data for HW8.xlsx', 'BME 241 Lab 10.pdf', 'Stats Lect 12-2 Chi Squared.pdf', 'homework8.ipynb', 'Final Project - Measuring Inflammation F21.docx', 'Final Project_241_ Neurons_F21 (1).pdf', 'BME 241 Final Project.docx', 'BME241 Finalproject2.docx']\n",
            "/content/drive/MyDrive/대외활동 [] ['제5기+KBCH+대학생+기자단+지원서+양식.hwp', '3.1절 중앙기념식 서포터즈 지원서 권은진 980514.hwp', '책 서포터즈.hwp', 'KakaoTalk_20190226_195436373.jpg', 'personality.hwp', '책 카페 3주차.hwp', '라디오북 서포터즈 수료증_우수 활동자_권은진 님.pdf', '자기소개영상.docx', '어린이의약정보서포터즈 지원_ 권은진.hwp', '서포터즈 활동 영수증 권은진.hwp', '3주 기사.docx', '4주차 기사.docx', 'service learning.jpg', '5주차 기사.docx', '8주차 기사.docx', 'Coursera BIoinformatics.pdf', 'Coursera physics.pdf', '9주차 기사.docx', '11주차 카드뉴스기사.docx', '컬리지 인사이드 인턴 1주차 1.docx', 'Coursera Intro to AI.pdf', 'Coursera AI.pdf', 'perp walk opposition.docx', 'perp walk-rs.docx', '2020년도 글로벌 CEO 육성 프로그램 참가 신청서_ 권은진.xlsx', '대학생 기자단 6기 활동증명서.pdf', '자기소개서 (비씨켐).docx', 'EunJin Kwon 컬리지 인사이드 인턴.pdf', 'CertificateOfCompletion_Statistics Foundations 1 (1).pdf', '컨퍼런스 수료증.png', '인공지능 전문가void.studyCertificate.pdf', 'EunJin Kwon 컬리지 인사이드 인턴-회전됨.pdf', 'Certificate.pdf', '대학특별활동.xlsx', '1631863467030-NIA_캐글_데이터리터러시.pdf']\n",
            "/content/drive/MyDrive/NIPA [] ['[p1]_코로나_데이터_분석_프로젝트.ipynb', '[p3]_자동차_리콜_데이터_분석_프로젝트.ipynb', '지도학습-회귀.pdf', '지도학습-분류.pdf', '딥러닝 1.pdf', 'download.pdf', '딥러닝-03 다양한 신경망.pdf', '[p1] 의류 판매 상품 리뷰 분석을 통한 상품 추천 여부 예측.ipynb', '머신러닝-분류.pdf', 'heart.csv', '심부전증 예측.ipynb', '20211211113648.png']\n",
            "/content/drive/MyDrive/서류 [] ['passport copy.jpg', 'bank account.jpg', 'I901_payment_confirmation_06302018.PDF', 'Health-Clearance-Form-2014.pdf', 'I901 payment confirmation .pdf', 'KakaoTalk_20180706_144907389.jpg', 'ConfirmationLetter.pdf', 'insurance card.pdf', 'CEACAA0083G8GU VISA.PDF', 'Health-Clearance-Form-2018.pdf', 'ASU ETSNGTCR_0000000035292523.pdf', 'Recommendation letter.docx', '34EACB65-C3D1-4270-BE62-D1795D3267C2.jpeg', 'immunization.gif', 'immunization.pdf', 'NON-DISCLOSURE & CONFIDENTIALITY AGREEMENT 2017.pdf', 'Staff_Faculty_ Student Direct Deposit Form.pdf', 'IL-W-4.pdf', 'fw4.pdf', 'MICHIGAN.pdf', 'TRansfer Request Form filled AA. Kwon, Eunjin.pdf', 'KakaoTalk_20200601_103846245.jpg', 'immunization form.pdf', '2020_Financial_Resource_Statement.pdf', 'KakaoTalk_20200709_210057830.jpg', 'IntlIns_WaiverForm.pdf', 'SSR_TSRPT_SC.pdf', 'KakaoTalk_20201216_031251339.jpg', 'I-20_Kwon_Eunjin_N0031747919.pdf', 'i-94.png', 'i-94 card.png', 'unofficial transcript.pdf', 'signature.jpg', 'MCI_Student_Responsibility_Checklist (1).pdf', 'mostrecent1-94.png', 'visa.jpg', 'cdc.jpg']\n",
            "/content/drive/MyDrive/KHU digital health ['IMT_sample', '청소년 건강행태조사', 'Food Allergy', 'Acute Hepatitis of Unknown Origin', 'GBD'] ['인공지능_code.gdoc', '인공지능_당뇨병 및 합병증 추적관찰.gdoc', 'Medical Terminology.gdoc', 'Topics.gdoc', '연구 주제.gdoc', 'famotidin-COVID19.docx', 'UK biobank application.gdoc', 'arima.R', 'Sentence save.gdoc', 'famotidin-COVID19 Edited.docx', 'non-optimal temperature_data.xlsx', 'non-optimal temperature_table.xlsx', 'Review_Louisiana.gdoc', 'non-optimal temperature.gdoc']\n",
            "/content/drive/MyDrive/KHU digital health/IMT_sample [] ['KOSAIM_SummerSchool_2021_Handson_01_Classification_210814_jhyun (1).ipynb', 'D_00196529_IMT_L.png', 'D_00560343_IMT_R.png', 'D_02239071_IMT_R.json', 'D_00303022_IMT_L.png', 'D_00303022_IMT_L.json', 'D_02239071_IMT_L.png', 'D_01088773_IMT_L.json', 'D_01088773_IMT_L.png', 'D_00560343_IMT_L.png', 'D_01088773_IMT_R.png', 'D_00196529_IMT_R.json', 'D_02166911_IMT_R.json', 'D_00196529_IMT_L.json', 'D_00303022_IMT_R.png', 'D_00303022_IMT_R.json', 'D_02166911_IMT_R.png', 'D_02166911_IMT_L.png', 'D_01088773_IMT_R.json', 'D_00560343_IMT_R.json', 'D_02239071_IMT_L.json', 'D_02166911_IMT_L.json', 'D_00196529_IMT_R.png', 'D_02239071_IMT_R.png', 'D_00560343_IMT_L.json', 'IMT.ipynb', 'KOSAIM_SummerSchool_2021_Handson_01_Classification_210814_jhyun.ipynb', 'KOSAIM_SummerSchool_2021_Handson_02_Segmentation_210814.ipynb']\n",
            "/content/drive/MyDrive/KHU digital health/청소년 건강행태조사 [] ['flow chart(period 6).PNG', 'PA Data analysis - 복사본.sas', '청소년 건강 행태 조사.gdoc', 'graph.xlsx', 'Physical Activity_Korean Adolescents draft 6 30.gdoc', '자료 통합 및 대상자 추출.sas', 'BMI Data analysis.sas', 'Physical Activity_Review article.gdoc', 'Revision Letter_JMV.docx', 'PA 20220701_Final draft.docx', 'Table data.gsheet']\n",
            "/content/drive/MyDrive/KHU digital health/Food Allergy ['Revision'] ['AD_Fracture_220601 text - Allergy Letter.docx', 'AllergyGATemplate.pptx', 'Figure S1.pptx', 'GA 20201013.pptx', 'AD_Fracture_220406 text - JACIIP.docx', 'Figure 1.gsheet', 'Figure 1 210831.pptx', 'Figure 1.jpg', 'Fracture incidence in children after food allergy.gdoc', 'FA 20220712_Allergy_Letter_revision.docx']\n",
            "/content/drive/MyDrive/KHU digital health/Food Allergy/Revision [] ['COVID_CRS_text_20210303 JACIp - Marked.docx', 'Revision Letter_Allergy.docx', 'Point-to-point response.docx']\n",
            "/content/drive/MyDrive/KHU digital health/Acute Hepatitis of Unknown Origin [] ['Flowchart.gslides', 'Flowchart.jpg', 'csv-Acutehepat-set.gsheet', 'AHUO_DRAFT.gdoc', 'Tables.gsheet', '연구 주제.gdoc', 'ACUTE HEPATITIS OF UNKNOWN.gdoc', '표본코호트.gdoc', 'Request-for-TESSy-data-for-research-purposes.docx']\n",
            "/content/drive/MyDrive/KMU [] ['Prediction of F-FDG PET  CT for Axillary Lymph Node Metastasis in Breast Cancer using deep learning.gdoc', 'Result_IHCC_bin0.1_spacing3_clean.csv', 'IHCC_ce_zscore-bin0.1_spacing3_cluster3-test.ipynb']\n",
            "/content/drive/MyDrive/스타트업유니버시티 [] ['최종발표 대본.gdoc']\n",
            "/content/drive/.shortcut-targets-by-id ['1PCTP6tM2nBAvF0hSq4YM-hNyg_Ca5Z4Z'] []\n",
            "/content/drive/.shortcut-targets-by-id/1PCTP6tM2nBAvF0hSq4YM-hNyg_Ca5Z4Z ['GBD'] []\n",
            "/content/drive/.shortcut-targets-by-id/1PCTP6tM2nBAvF0hSq4YM-hNyg_Ca5Z4Z/GBD ['ARIMA'] ['0726 .docx', 'Table 2_Incidence.xlsx', '0801.docx', '0729 .docx', 'Table 2_Prevalence.xlsx', 'INITIAL RESEARCH.gdoc', 'DRAFT.gdoc', 'GBD Research.gdoc', 'Table 1.gsheet', 'Table 2_DALYs.gsheet']\n",
            "/content/drive/.shortcut-targets-by-id/1PCTP6tM2nBAvF0hSq4YM-hNyg_Ca5Z4Z/GBD/ARIMA ['Prevalence', 'AGE', 'SEX', 'Income'] []\n",
            "/content/drive/.shortcut-targets-by-id/1PCTP6tM2nBAvF0hSq4YM-hNyg_Ca5Z4Z/GBD/ARIMA/Prevalence ['Anxiety disorders', 'Mental disorders', 'ADHD', 'ASD', 'Bipolar disorder', 'Conduct disorder', 'Depressive disorders', 'Eating disorders', 'Idiopathic developmental', 'Other mental disorders', 'Schizophrenia'] []\n",
            "/content/drive/.shortcut-targets-by-id/1PCTP6tM2nBAvF0hSq4YM-hNyg_Ca5Z4Z/GBD/ARIMA/Prevalence/Anxiety disorders [] []\n",
            "/content/drive/.shortcut-targets-by-id/1PCTP6tM2nBAvF0hSq4YM-hNyg_Ca5Z4Z/GBD/ARIMA/Prevalence/Mental disorders [] []\n",
            "/content/drive/.shortcut-targets-by-id/1PCTP6tM2nBAvF0hSq4YM-hNyg_Ca5Z4Z/GBD/ARIMA/Prevalence/ADHD [] []\n",
            "/content/drive/.shortcut-targets-by-id/1PCTP6tM2nBAvF0hSq4YM-hNyg_Ca5Z4Z/GBD/ARIMA/Prevalence/ASD [] []\n",
            "/content/drive/.shortcut-targets-by-id/1PCTP6tM2nBAvF0hSq4YM-hNyg_Ca5Z4Z/GBD/ARIMA/Prevalence/Bipolar disorder [] []\n",
            "/content/drive/.shortcut-targets-by-id/1PCTP6tM2nBAvF0hSq4YM-hNyg_Ca5Z4Z/GBD/ARIMA/Prevalence/Conduct disorder [] []\n",
            "/content/drive/.shortcut-targets-by-id/1PCTP6tM2nBAvF0hSq4YM-hNyg_Ca5Z4Z/GBD/ARIMA/Prevalence/Depressive disorders [] []\n",
            "/content/drive/.shortcut-targets-by-id/1PCTP6tM2nBAvF0hSq4YM-hNyg_Ca5Z4Z/GBD/ARIMA/Prevalence/Eating disorders [] []\n",
            "/content/drive/.shortcut-targets-by-id/1PCTP6tM2nBAvF0hSq4YM-hNyg_Ca5Z4Z/GBD/ARIMA/Prevalence/Idiopathic developmental [] []\n",
            "/content/drive/.shortcut-targets-by-id/1PCTP6tM2nBAvF0hSq4YM-hNyg_Ca5Z4Z/GBD/ARIMA/Prevalence/Other mental disorders [] []\n",
            "/content/drive/.shortcut-targets-by-id/1PCTP6tM2nBAvF0hSq4YM-hNyg_Ca5Z4Z/GBD/ARIMA/Prevalence/Schizophrenia [] []\n",
            "/content/drive/.shortcut-targets-by-id/1PCTP6tM2nBAvF0hSq4YM-hNyg_Ca5Z4Z/GBD/ARIMA/AGE ['Incidence', 'Prevalence', 'DALYs'] []\n",
            "/content/drive/.shortcut-targets-by-id/1PCTP6tM2nBAvF0hSq4YM-hNyg_Ca5Z4Z/GBD/ARIMA/AGE/Incidence ['in millions', 'standardized'] []\n",
            "/content/drive/.shortcut-targets-by-id/1PCTP6tM2nBAvF0hSq4YM-hNyg_Ca5Z4Z/GBD/ARIMA/AGE/Incidence/in millions [] ['27f8771f-bc00-40bf-a6a1-88bcb51bfa8a.png', 'bf3de407-c08c-44ea-bba4-d1db9c0e1da9.png', 'aadf1aae-a962-49f1-a0bc-6f3508d5e882.png', '93bc1cfa-d9e9-4ff2-9524-0d3b66a94651.png', '8d027c76-cb28-4dc4-86e0-b20533141896.png', 'b45360be-6a81-4972-9a69-2df5f04a17f3.png', '8f8082c0-3a6f-4292-bd7a-b62da5dda089.png', '8b1a41a9-652f-4bfa-8e38-e583300b460a.png', 'b6a11a72-49ce-4b03-a2bb-adbdca8e9f24.png', '99b0b23b-7464-4362-8e8e-6e0a14ad7cff.png', 'c8dad8b4-787d-46a0-b6c0-66ff37cbffea.png']\n",
            "/content/drive/.shortcut-targets-by-id/1PCTP6tM2nBAvF0hSq4YM-hNyg_Ca5Z4Z/GBD/ARIMA/AGE/Incidence/standardized [] []\n",
            "/content/drive/.shortcut-targets-by-id/1PCTP6tM2nBAvF0hSq4YM-hNyg_Ca5Z4Z/GBD/ARIMA/AGE/Prevalence ['in millions', 'standardized'] []\n",
            "/content/drive/.shortcut-targets-by-id/1PCTP6tM2nBAvF0hSq4YM-hNyg_Ca5Z4Z/GBD/ARIMA/AGE/Prevalence/in millions [] ['44d450c5-9b44-4a7d-85a0-f476942daff5.png', '37b3babe-133a-4e96-9231-7af9f2ccff01.png', '816b014b-652b-4b05-b182-720e01314310.png', '657159b6-17be-48b6-aa42-8c3f93cef947.png', '1f5ae40b-c295-463e-820a-86f1bec8acfe.png', '0195cd89-21e3-4779-9565-23d12010452b.png', '4372805f-758c-411d-8d4a-e9a688b05781.png', 'b8930ee1-a254-4720-bac5-24c991342129.png', '5127dd70-468b-4f0c-b76e-97d25a249ad1.png', 'e8374463-7eeb-479f-b66e-98349cf7fbf9.png', 'f18fc007-a5e6-4f6a-a4ff-32f8ccc4cd30.png']\n",
            "/content/drive/.shortcut-targets-by-id/1PCTP6tM2nBAvF0hSq4YM-hNyg_Ca5Z4Z/GBD/ARIMA/AGE/Prevalence/standardized [] []\n",
            "/content/drive/.shortcut-targets-by-id/1PCTP6tM2nBAvF0hSq4YM-hNyg_Ca5Z4Z/GBD/ARIMA/AGE/DALYs ['standardized', 'in millions'] []\n",
            "/content/drive/.shortcut-targets-by-id/1PCTP6tM2nBAvF0hSq4YM-hNyg_Ca5Z4Z/GBD/ARIMA/AGE/DALYs/standardized [] []\n",
            "/content/drive/.shortcut-targets-by-id/1PCTP6tM2nBAvF0hSq4YM-hNyg_Ca5Z4Z/GBD/ARIMA/AGE/DALYs/in millions [] ['a4f99fd7-b16f-4100-9196-f46ea9f3692d.png', '7cb36974-e9d0-4ada-a079-4bfd29f63ae2.png', '3c765a63-d9f1-42a3-9baa-215cc3910c52.png', '7f925c6e-08f1-4d3d-826e-490076fab356.png', '82fcf678-dc28-41f9-8319-840539bbc611.png', '8e09619c-ebe9-44ce-afbc-cf69e6742130.png', '14fa0c60-a70b-4fa8-bb1e-a0bb94cadde2.png', '2ada602c-e1c4-4d84-acd6-9592ce84898b.png', '140dbeb6-f627-4063-a01c-fa781aa76673.png', 'f940d92d-71a8-4faa-b9a0-91855779a698.png', 'c56b753a-8fdc-450d-a72e-3c51815bb713.png']\n",
            "/content/drive/.shortcut-targets-by-id/1PCTP6tM2nBAvF0hSq4YM-hNyg_Ca5Z4Z/GBD/ARIMA/SEX ['Prevalence', 'Incidence', 'DALYs'] []\n",
            "/content/drive/.shortcut-targets-by-id/1PCTP6tM2nBAvF0hSq4YM-hNyg_Ca5Z4Z/GBD/ARIMA/SEX/Prevalence ['number', 'rate'] []\n",
            "/content/drive/.shortcut-targets-by-id/1PCTP6tM2nBAvF0hSq4YM-hNyg_Ca5Z4Z/GBD/ARIMA/SEX/Prevalence/number [] ['prevalence_number.xlsx', 'Anxiety disorders.png', 'Attention-deficit hyperactivity disorder.png', 'Autism spectrum disorders.png', 'Bipolar disorder.png', 'Conduct disorder.png', 'Depressive disorders.png', 'Idiopathic developmental intellectual disability.png', 'Mental disorders.png', 'Other mental disorders.png', 'Schizophrenia.png']\n",
            "/content/drive/.shortcut-targets-by-id/1PCTP6tM2nBAvF0hSq4YM-hNyg_Ca5Z4Z/GBD/ARIMA/SEX/Prevalence/rate [] ['prevalence_rate.xlsx', 'Anxiety disorders.png', 'Attention-deficit hyperactivity disorder.png', 'Autism spectrum disorders.png', 'Bipolar disorder.png', 'Conduct disorder.png', 'Depressive disorders.png', 'Eating disorders.png', 'Idiopathic developmental intellectual disability.png', 'Mental disorders.png', 'Other mental disorders.png', 'Schizophrenia.png']\n",
            "/content/drive/.shortcut-targets-by-id/1PCTP6tM2nBAvF0hSq4YM-hNyg_Ca5Z4Z/GBD/ARIMA/SEX/Incidence ['number', 'rate'] []\n",
            "/content/drive/.shortcut-targets-by-id/1PCTP6tM2nBAvF0hSq4YM-hNyg_Ca5Z4Z/GBD/ARIMA/SEX/Incidence/number [] ['Depressive disorders.png', 'Anxiety disorders.png', 'Attention-deficit hyperactivity disorder.png', 'Autism spectrum disorders.png', 'Bipolar disorder.png', 'Conduct disorder.png', 'Eating disorders.png', 'Idiopathic developmental intellectual disability.png', 'Other mental disorders.png', 'Mental disorders.png', 'Schizophrenia.png', 'incidence_number.xlsx']\n",
            "/content/drive/.shortcut-targets-by-id/1PCTP6tM2nBAvF0hSq4YM-hNyg_Ca5Z4Z/GBD/ARIMA/SEX/Incidence/rate [] ['Anxiety disorders.png', 'Attention-deficit hyperactivity disorder.png', 'Autism spectrum disorders.png', 'Bipolar disorder.png', 'Conduct disorder.png', 'Depressive disorders.png', 'Idiopathic developmental intellectual disability.png', 'Other mental disorders.png', 'Mental disorders.png', 'Schizophrenia.png', 'incidence_rate.xlsx']\n",
            "/content/drive/.shortcut-targets-by-id/1PCTP6tM2nBAvF0hSq4YM-hNyg_Ca5Z4Z/GBD/ARIMA/SEX/DALYs ['number', 'rate'] []\n",
            "/content/drive/.shortcut-targets-by-id/1PCTP6tM2nBAvF0hSq4YM-hNyg_Ca5Z4Z/GBD/ARIMA/SEX/DALYs/number [] ['Anxiety disorders.png', 'Attention-deficit hyperactivity disorder.png', 'Autism spectrum disorders.png', 'Bipolar disorder.png', 'Conduct disorder.png', 'Depressive disorders.png', 'Eating disorders.png', 'Idiopathic developmental intellectual disability.png', 'Other mental disorders.png', 'DALYs_number.xlsx', 'Mental disorders.png', 'Schizophrenia.png']\n",
            "/content/drive/.shortcut-targets-by-id/1PCTP6tM2nBAvF0hSq4YM-hNyg_Ca5Z4Z/GBD/ARIMA/SEX/DALYs/rate [] ['Anxiety disorders.png', 'Attention-deficit hyperactivity disorder.png', 'Autism spectrum disorders.png', 'Bipolar disorder.png', 'Conduct disorder.png', 'Depressive disorders.png', 'Eating disorders.png', 'Idiopathic developmental intellectual disability.png', 'Mental disorders.png', 'Other mental disorders.png', 'DALYs_rate.xlsx', 'Schizophrenia.png']\n",
            "/content/drive/.shortcut-targets-by-id/1PCTP6tM2nBAvF0hSq4YM-hNyg_Ca5Z4Z/GBD/ARIMA/Income ['Income_all ages', 'Income_age standardized ', '300 DPI income_all ages_prevalence'] []\n",
            "/content/drive/.shortcut-targets-by-id/1PCTP6tM2nBAvF0hSq4YM-hNyg_Ca5Z4Z/GBD/ARIMA/Income/Income_all ages [] ['DALY (1).png', 'DALY (2).png', 'DALY (3).png', 'DALY (4).png', 'DALY (5).png', 'DALY (6).png', 'DALY (7).png', 'DALY (9).png', 'DALY (8).png', 'DALY (10).png', 'DALY (11).png', 'Prevalence (1).png', 'Prevalence (2).png', 'Prevalence (3).png', 'Prevalence (4).png', 'Prevalence (5).png', 'Prevalence (6).png', 'Prevalence (7).png', 'Prevalence (8).png', 'Prevalence (9).png', 'Prevalence (10).png', 'Prevalence (11).png', 'incidence (1).png', 'incidence (2).png', 'incidence (3).png', 'incidence (4).png', 'incidence (5).png', 'incidence (6).png', 'incidence (7).png', 'incidence (8).png', 'incidence (9).png', 'incidence (10).png', 'incidence (11).png']\n",
            "/content/drive/.shortcut-targets-by-id/1PCTP6tM2nBAvF0hSq4YM-hNyg_Ca5Z4Z/GBD/ARIMA/Income/Income_age standardized  [] ['age standardized prevalence_income (1).png', 'age standardized prevalence_income (3).png', 'age standardized prevalence_income (2).png', 'age standardized prevalence_income (4).png', 'age standardized prevalence_income (5).png', 'age standardized prevalence_income (6).png', 'age standardized prevalence_income (7).png', 'age standardized prevalence_income (8).png', 'age standardized prevalence_income (9).png', 'age standardized prevalence_income (10).png', 'age standardized prevalence_income (11).png', 'age-standardized incidence_income (1).png', 'age-standardized incidence_income (2).png', 'age-standardized incidence_income (3).png', 'age-standardized incidence_income (4).png', 'age-standardized incidence_income (5).png', 'age-standardized incidence_income (6).png', 'age-standardized incidence_income (7).png', 'age-standardized incidence_income (8).png', 'age-standardized incidence_income (9).png', 'age-standardized incidence_income (10).png', 'age-standardized incidence_income (11).png', 'age standardized DALY_income (1).png', 'age standardized DALY_income (2).png', 'age standardized DALY_income (3).png', 'age standardized DALY_income (4).png', 'age standardized DALY_income (5).png', 'age standardized DALY_income (6).png', 'age standardized DALY_income (7).png', 'age standardized DALY_income (8).png', 'age standardized DALY_income (9).png', 'age standardized DALY_income (10).png', 'age standardized DALY_income (11).png']\n",
            "/content/drive/.shortcut-targets-by-id/1PCTP6tM2nBAvF0hSq4YM-hNyg_Ca5Z4Z/GBD/ARIMA/Income/300 DPI income_all ages_prevalence [] ['prevalence Mental disorders .jpeg', 'prevalence Anxiety disorders .jpeg', 'prevalence ADHD.jpeg', 'prevalence Autism spectrum disorders .jpeg', 'prevalence Bipolar disorder .jpeg', 'prevalence Conduct disorder .jpeg', 'prevalence Depressive disorders .jpeg', 'prevalence Eating disorders .jpeg', 'prevalence Idiopathic developmental intellectual disability .jpeg', 'prevalence Other mental disorders .jpeg', 'prevalence Schizophrenia .jpeg']\n",
            "/content/drive/.Trash-0 ['files', 'info'] []\n",
            "/content/drive/.Trash-0/files [] []\n",
            "/content/drive/.Trash-0/info [] []\n",
            "/content/sample_data [] ['README.md', 'temp.json', 'mnist_train_small.csv', 'california_housing_test.csv', 'mnist_test.csv', 'california_housing_train.csv']\n",
            "/content/temp [] []\n"
          ]
        }
      ]
    }
  ]
}
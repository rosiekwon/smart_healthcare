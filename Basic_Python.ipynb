{
  "nbformat": 4,
  "nbformat_minor": 0,
  "metadata": {
    "colab": {
      "provenance": [],
      "authorship_tag": "ABX9TyNNHRHfJTIYYBTPejCXNkG0",
      "include_colab_link": true
    },
    "kernelspec": {
      "name": "python3",
      "display_name": "Python 3"
    },
    "language_info": {
      "name": "python"
    }
  },
  "cells": [
    {
      "cell_type": "markdown",
      "metadata": {
        "id": "view-in-github",
        "colab_type": "text"
      },
      "source": [
        "<a href=\"https://colab.research.google.com/github/rosiekwon/smart_healthcare/blob/main/Basic_Python.ipynb\" target=\"_parent\"><img src=\"https://colab.research.google.com/assets/colab-badge.svg\" alt=\"Open In Colab\"/></a>"
      ]
    },
    {
      "cell_type": "markdown",
      "source": [
        "## 01. print, docstring, auto intent"
      ],
      "metadata": {
        "id": "llfzkhp3P1pH"
      }
    },
    {
      "cell_type": "markdown",
      "source": [
        "출력 : 셀의 마지막 문장 하나만 결과로 출력 / 여러 결과나 코드 중간 변수 값을 출력할 때 print 사용"
      ],
      "metadata": {
        "id": "hLJdtbG3QE91"
      }
    },
    {
      "cell_type": "code",
      "execution_count": 3,
      "metadata": {
        "colab": {
          "base_uri": "https://localhost:8080/",
          "height": 53
        },
        "id": "zyNLyfo1PutT",
        "outputId": "0b04bced-d540-4259-ec43-c6d4bd31226d"
      },
      "outputs": [
        {
          "output_type": "stream",
          "name": "stdout",
          "text": [
            "Hello python\n"
          ]
        },
        {
          "output_type": "execute_result",
          "data": {
            "text/plain": [
              "' 여러줄의 주석처리'"
            ],
            "application/vnd.google.colaboratory.intrinsic+json": {
              "type": "string"
            }
          },
          "metadata": {},
          "execution_count": 3
        }
      ],
      "source": [
        "print('Hello python')\n",
        "\n",
        "\"\"\"여러줄의 주석처리\"\"\""
      ]
    },
    {
      "cell_type": "markdown",
      "source": [
        "docstring : 함수의 사용법을 설명 help (함수 메소드)\n",
        "\n",
        "자동완성 : 코드의 일부분만 작성하고 뒷부분을 자동으로 채워주는 기능"
      ],
      "metadata": {
        "id": "HWaLh5MOQf5x"
      }
    },
    {
      "cell_type": "markdown",
      "source": [
        "## 02. Data type"
      ],
      "metadata": {
        "id": "hDWZZSWqQ05x"
      }
    },
    {
      "cell_type": "markdown",
      "source": [
        "데이터 타입\n",
        "1. number\n",
        "2. object\n",
        "3. list [] ; 순서가 있고 수정이 가능한 데이터 타입\n",
        "\n",
        "*offset index : 순서가 있는 데이터 타입에서 해당 index 사용하여 출력가능"
      ],
      "metadata": {
        "id": "B0ctqddlWJoi"
      }
    },
    {
      "cell_type": "code",
      "source": [
        "a = 510\n",
        "b = 'birthday'\n",
        "c = [True, 1,2,[4,5,6]]\n",
        "\n",
        "print(type(a),type(b), type(c))"
      ],
      "metadata": {
        "colab": {
          "base_uri": "https://localhost:8080/"
        },
        "id": "R9YQFYhDWNOw",
        "outputId": "3ab107f5-4b8f-407d-ddc1-68d0458b3106"
      },
      "execution_count": 4,
      "outputs": [
        {
          "output_type": "stream",
          "name": "stdout",
          "text": [
            "<class 'int'> <class 'str'> <class 'list'>\n"
          ]
        }
      ]
    },
    {
      "cell_type": "code",
      "source": [
        "print(c[3])\n",
        "print(c[::-1]) #순서 반대로"
      ],
      "metadata": {
        "colab": {
          "base_uri": "https://localhost:8080/"
        },
        "id": "WOHbfE7SQefJ",
        "outputId": "adb221b6-1343-42ae-9f3e-6cec7c9a5ddd"
      },
      "execution_count": 7,
      "outputs": [
        {
          "output_type": "stream",
          "name": "stdout",
          "text": [
            "[4, 5, 6]\n",
            "[[4, 5, 6], 2, 1, True]\n"
          ]
        }
      ]
    },
    {
      "cell_type": "markdown",
      "source": [
        "*   list.append(index) ; 데이터값 추가\n",
        "*   list.pop(index) ; 마지막 항목의 데이터값 삭제"
      ],
      "metadata": {
        "id": "79byGEo5Xou-"
      }
    },
    {
      "cell_type": "markdown",
      "source": [
        "4. tuple (); 순서가 있고 수정이 불가능한 데이터 타입"
      ],
      "metadata": {
        "id": "lg5s-M5bYHvo"
      }
    },
    {
      "cell_type": "code",
      "source": [
        "tp1 = 1,2,3\n",
        "tp2 = (4,5,6) \n",
        "#소괄호의 유무에 상관없이 튜플로 선언가능\n",
        "type(tp1),type(tp2),tp1,tp2"
      ],
      "metadata": {
        "colab": {
          "base_uri": "https://localhost:8080/"
        },
        "id": "2EFbcOwAXctN",
        "outputId": "bf75fb6e-6674-481c-8686-4c3ee81a0791"
      },
      "execution_count": 9,
      "outputs": [
        {
          "output_type": "execute_result",
          "data": {
            "text/plain": [
              "(tuple, tuple, (1, 2, 3), (4, 5, 6))"
            ]
          },
          "metadata": {},
          "execution_count": 9
        }
      ]
    },
    {
      "cell_type": "code",
      "source": [
        "#한줄에 두줄의 변수 선언\n",
        "a,b = 10,20\n",
        "a,b"
      ],
      "metadata": {
        "colab": {
          "base_uri": "https://localhost:8080/"
        },
        "id": "dIdtkx3kYcDo",
        "outputId": "a0e851ce-aa92-4dbb-da08-a981c399532c"
      },
      "execution_count": 10,
      "outputs": [
        {
          "output_type": "execute_result",
          "data": {
            "text/plain": [
              "(10, 20)"
            ]
          },
          "metadata": {},
          "execution_count": 10
        }
      ]
    },
    {
      "cell_type": "code",
      "source": [
        "tp1[0], tp2[::-1]"
      ],
      "metadata": {
        "colab": {
          "base_uri": "https://localhost:8080/"
        },
        "id": "UzXy_JkdYiAV",
        "outputId": "018101f8-04f7-4973-f976-b7aac557a4b8"
      },
      "execution_count": 11,
      "outputs": [
        {
          "output_type": "execute_result",
          "data": {
            "text/plain": [
              "(1, (6, 5, 4))"
            ]
          },
          "metadata": {},
          "execution_count": 11
        }
      ]
    },
    {
      "cell_type": "markdown",
      "source": [
        "5. dictionary {} ; 순서가 없고 키:값으로 된 쌍이 요소로 구성된 데이터 타입"
      ],
      "metadata": {
        "id": "m1KdOwFyYKOP"
      }
    },
    {
      "cell_type": "code",
      "source": [
        "dic ={\n",
        "    'trainingdata':'data',\n",
        "    1:'first',\n",
        "    2:'second'\n",
        "}\n",
        "type(dic),dic"
      ],
      "metadata": {
        "colab": {
          "base_uri": "https://localhost:8080/"
        },
        "id": "yEpI7NE1Z1q0",
        "outputId": "f52b00ff-f23d-4708-dece-bc53f73f6d2f"
      },
      "execution_count": 13,
      "outputs": [
        {
          "output_type": "execute_result",
          "data": {
            "text/plain": [
              "(dict, {'trainingdata': 'data', 1: 'first', 2: 'second'})"
            ]
          },
          "metadata": {},
          "execution_count": 13
        }
      ]
    },
    {
      "cell_type": "code",
      "source": [
        "#새로운 dictionary 생성\n",
        "dic2 = {}\n",
        "\n",
        "dic2['python'] = 'colab'\n",
        "dic2[2] = 'second'\n",
        "dic2[3] = 'third'\n",
        "dic2"
      ],
      "metadata": {
        "colab": {
          "base_uri": "https://localhost:8080/"
        },
        "id": "hcqw1oWfaAX9",
        "outputId": "9170dde8-1f56-4641-fe6e-5dd22dd122f4"
      },
      "execution_count": 16,
      "outputs": [
        {
          "output_type": "execute_result",
          "data": {
            "text/plain": [
              "{'python': 'colab', 2: 'second', 3: 'third'}"
            ]
          },
          "metadata": {},
          "execution_count": 16
        }
      ]
    },
    {
      "cell_type": "code",
      "source": [
        "#key 값 출력\n",
        "dic[1],dic[2]"
      ],
      "metadata": {
        "colab": {
          "base_uri": "https://localhost:8080/"
        },
        "id": "IP8mDN7IaXbE",
        "outputId": "358e5ffe-bc69-49cb-9911-0528ac6e2ca4"
      },
      "execution_count": 17,
      "outputs": [
        {
          "output_type": "execute_result",
          "data": {
            "text/plain": [
              "('first', 'second')"
            ]
          },
          "metadata": {},
          "execution_count": 17
        }
      ]
    },
    {
      "cell_type": "markdown",
      "source": [
        "\n",
        "\n",
        "* key() : key값 확인\n",
        "* values() : value값 확인/ 각각 리스트 타입으로 출력\n",
        "* items(): key, value 쌍으로 출력 \n",
        "\n",
        "순서가 없기에 offset index사용 불가능\n"
      ],
      "metadata": {
        "id": "bMwdAMXkanJi"
      }
    },
    {
      "cell_type": "code",
      "source": [
        "for key in dic.keys():\n",
        "  print(key)"
      ],
      "metadata": {
        "colab": {
          "base_uri": "https://localhost:8080/"
        },
        "id": "b5xoAKDhaknB",
        "outputId": "16da62b5-5e6c-4d5b-ee4b-b98e379c6363"
      },
      "execution_count": 18,
      "outputs": [
        {
          "output_type": "stream",
          "name": "stdout",
          "text": [
            "trainingdata\n",
            "1\n",
            "2\n"
          ]
        }
      ]
    },
    {
      "cell_type": "code",
      "source": [
        "for item in dic.items():\n",
        "  print(item)"
      ],
      "metadata": {
        "colab": {
          "base_uri": "https://localhost:8080/"
        },
        "id": "qFl7YJembIOd",
        "outputId": "58963a20-d342-4bc8-a247-5ccc9431da18"
      },
      "execution_count": 19,
      "outputs": [
        {
          "output_type": "stream",
          "name": "stdout",
          "text": [
            "('trainingdata', 'data')\n",
            "(1, 'first')\n",
            "(2, 'second')\n"
          ]
        }
      ]
    },
    {
      "cell_type": "markdown",
      "source": [
        "## 03. Type change"
      ],
      "metadata": {
        "id": "py1uG7ksba_A"
      }
    },
    {
      "cell_type": "markdown",
      "source": [
        "데이터 형태 종류\n",
        "- int, float, bool, str,list, tuple, dict"
      ],
      "metadata": {
        "id": "DQR_OP1Xbiyt"
      }
    },
    {
      "cell_type": "code",
      "source": [
        "type(list(dic.values()))"
      ],
      "metadata": {
        "colab": {
          "base_uri": "https://localhost:8080/"
        },
        "id": "ykU4Ch09bOjq",
        "outputId": "7756dd12-7d9a-4e0a-afa7-dbc1eecc66e8"
      },
      "execution_count": 21,
      "outputs": [
        {
          "output_type": "execute_result",
          "data": {
            "text/plain": [
              "list"
            ]
          },
          "metadata": {},
          "execution_count": 21
        }
      ]
    },
    {
      "cell_type": "code",
      "source": [
        "a = 1\n",
        "b = float(a)\n",
        "\n",
        "type(a),a,type(b),b"
      ],
      "metadata": {
        "colab": {
          "base_uri": "https://localhost:8080/"
        },
        "id": "eCwZcFdObpx5",
        "outputId": "bc2353ee-4a73-485d-e898-89fd133a309a"
      },
      "execution_count": 22,
      "outputs": [
        {
          "output_type": "execute_result",
          "data": {
            "text/plain": [
              "(int, 1, float, 1.0)"
            ]
          },
          "metadata": {},
          "execution_count": 22
        }
      ]
    },
    {
      "cell_type": "code",
      "source": [
        "#list를 dictionary로 변환\n",
        "#zip 함수 - 같은 index끼리 묶어주는 함수"
      ],
      "metadata": {
        "id": "LCY5z6KCb2ET"
      },
      "execution_count": 23,
      "outputs": []
    },
    {
      "cell_type": "code",
      "source": [
        "classes = ['machine learning','deep learning']\n",
        "subject = ['classification','AI']\n",
        "\n",
        "dic = dict(zip(classes,subject))\n",
        "type(dic),dic"
      ],
      "metadata": {
        "colab": {
          "base_uri": "https://localhost:8080/"
        },
        "id": "hKN9HwU3b_zv",
        "outputId": "cd1acecd-c1c6-4c38-ae18-db6ee75cb458"
      },
      "execution_count": 26,
      "outputs": [
        {
          "output_type": "execute_result",
          "data": {
            "text/plain": [
              "(dict, {'machine learning': 'classification', 'deep learning': 'AI'})"
            ]
          },
          "metadata": {},
          "execution_count": 26
        }
      ]
    },
    {
      "cell_type": "code",
      "source": [],
      "metadata": {
        "id": "q4CiiTGwcQd_"
      },
      "execution_count": null,
      "outputs": []
    }
  ]
}
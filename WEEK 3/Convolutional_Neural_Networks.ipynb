{
  "nbformat": 4,
  "nbformat_minor": 0,
  "metadata": {
    "colab": {
      "provenance": [],
      "authorship_tag": "ABX9TyPHNBGNUSkz2v/JFo0vUMQf",
      "include_colab_link": true
    },
    "kernelspec": {
      "name": "python3",
      "display_name": "Python 3"
    },
    "language_info": {
      "name": "python"
    },
    "accelerator": "GPU",
    "gpuClass": "standard"
  },
  "cells": [
    {
      "cell_type": "markdown",
      "metadata": {
        "id": "view-in-github",
        "colab_type": "text"
      },
      "source": [
        "<a href=\"https://colab.research.google.com/github/rosiekwon/smart_healthcare/blob/main/WEEK%203/Convolutional_Neural_Networks.ipynb\" target=\"_parent\"><img src=\"https://colab.research.google.com/assets/colab-badge.svg\" alt=\"Open In Colab\"/></a>"
      ]
    },
    {
      "cell_type": "markdown",
      "source": [
        "## 1. CNN(convolutional Neural Networks)\n",
        "\n",
        "- 이미지의 특징을 추출하고 학습할 수 있는 layer\n",
        "- 이미지 데이터의 패턴을 학습하고 이미지를 분류할 수 있다.\n",
        "\n",
        "<img src='https://miro.medium.com/max/1400/1*vkQ0hXDaQv57sALXAJquxA.jpeg'>"
      ],
      "metadata": {
        "id": "KsqkR1A7Mu9k"
      }
    },
    {
      "cell_type": "markdown",
      "source": [
        "### Filter parameters\n",
        "\n",
        "- Receptive field; 필터가 한번에 보는 영역\n",
        "- kernel size; 필터의 크기\n",
        "- Stride; 필터가 움직인 거리\n",
        "- Zeropadding; stride에 따라 input size가 맞지 않을 때 사용"
      ],
      "metadata": {
        "id": "nkvtevcuPJeT"
      }
    },
    {
      "cell_type": "markdown",
      "source": [
        "## 2. Layer"
      ],
      "metadata": {
        "id": "8qlo_LLzVPJY"
      }
    },
    {
      "cell_type": "markdown",
      "source": [
        "### Max pooling layer\n",
        "이미지의 크기를 유지한 채 Fully connected layer로 간다면 연산량이 기하급수적으로 증가하기 때문에 Kernel size를 작게 하면서도 더 넓은 영역의 이미지를 학습할 수 있도록 만드는 방법이다\n",
        "\n",
        "-> 이미지의 크기를 줄이게 된다\n"
      ],
      "metadata": {
        "id": "ZRLc4MaJP4A9"
      }
    },
    {
      "cell_type": "markdown",
      "source": [
        "### Batch Normalization layer\n"
      ],
      "metadata": {
        "id": "YEhyIajrQoDs"
      }
    },
    {
      "cell_type": "markdown",
      "source": [
        "### Dropout layer\n",
        "- input과 상관없이 노드를 random하게 추출하여 출력을 0으로 만드는 방법이다\n",
        "- overfitting을 방지하기 위해 노드를 random하게 삭제하는 기법이다\n",
        "\n",
        "\n",
        "### Dropconnect layer\n",
        "- Dropout layer와 비슷하지만 weight를 비활성화 시키고 node는 살아있는 방식이다. 생략되는 weight에 따라 connection이 사라진다.\n"
      ],
      "metadata": {
        "id": "V9M_auY1RzaT"
      }
    },
    {
      "cell_type": "markdown",
      "source": [
        "### Flatten, Dense layer\n",
        "\n",
        "- Flatten : Dense와 연결하기 위해서 갖고 있는 feature의 shape을 변경해야한다\n",
        "- Dense : 노드들을 연결하고 학습한 layer"
      ],
      "metadata": {
        "id": "YZef3CUtSQ1G"
      }
    },
    {
      "cell_type": "markdown",
      "source": [
        "## 3. Hyper parameter"
      ],
      "metadata": {
        "id": "QgKPOa0UVRfJ"
      }
    },
    {
      "cell_type": "markdown",
      "source": [
        "* 파라미터 : 딥러닝 모델 안에서 학습되며 업데이트 되는 weight나 bias\n",
        "* hyper parameter : 사용자가 학습을 효율적으로 진행하기 위해 휴리스틱한 방식으로 모델에 설정하는 변수\n",
        "\n",
        "i.e. learning rate, batch size, epoch, layer 설계 등"
      ],
      "metadata": {
        "id": "ASAfy4rDVTxe"
      }
    },
    {
      "cell_type": "markdown",
      "source": [
        "\n",
        "\n",
        "---\n",
        "\n"
      ],
      "metadata": {
        "id": "XX2WP9xIWA0V"
      }
    },
    {
      "cell_type": "markdown",
      "source": [
        "## 1. Import library"
      ],
      "metadata": {
        "id": "HOTCPLUVWlFZ"
      }
    },
    {
      "cell_type": "code",
      "source": [
        "import numpy as np\n",
        "import os, matplotlib\n",
        "from matplotlib import pyplot as plt\n",
        "\n",
        "### Tensorflow 2.0 ###\n",
        "import tensorflow as tf\n",
        "from tensorflow import keras\n",
        "from tensorflow.keras.models import Sequential, Model\n",
        "from tensorflow.keras import Input\n",
        "from tensorflow.keras import layers\n",
        "from tensorflow.keras import models\n",
        "from tensorflow.keras.preprocessing import image\n",
        "from tensorflow.keras.preprocessing.image import ImageDataGenerator\n",
        "from tensorflow.keras import losses\n",
        "from tensorflow.keras import optimizers\n",
        "from tensorflow.keras import metrics\n",
        "from tensorflow.keras import regularizers\n",
        "from tensorflow.keras import utils"
      ],
      "metadata": {
        "id": "1IjomOxFWB8s"
      },
      "execution_count": 1,
      "outputs": []
    },
    {
      "cell_type": "code",
      "source": [
        "tf.config.list_physical_devices()"
      ],
      "metadata": {
        "colab": {
          "base_uri": "https://localhost:8080/"
        },
        "id": "Qf3FPpS5WG9A",
        "outputId": "d4a3e43a-a2c1-4157-e158-507ae27dc2e3"
      },
      "execution_count": 2,
      "outputs": [
        {
          "output_type": "execute_result",
          "data": {
            "text/plain": [
              "[PhysicalDevice(name='/physical_device:CPU:0', device_type='CPU'),\n",
              " PhysicalDevice(name='/physical_device:GPU:0', device_type='GPU')]"
            ]
          },
          "metadata": {},
          "execution_count": 2
        }
      ]
    },
    {
      "cell_type": "markdown",
      "source": [
        "## 2. Load Data"
      ],
      "metadata": {
        "id": "Xi0dknfPWpgv"
      }
    },
    {
      "cell_type": "code",
      "source": [
        "(x_train, y_train), (x_test, y_test)= tf.keras.datasets.mnist.load_data(path='minist.npz')\n",
        "print(x_train.shape, y_train.shape)"
      ],
      "metadata": {
        "colab": {
          "base_uri": "https://localhost:8080/"
        },
        "id": "ZiVfhNJLWHow",
        "outputId": "e521e2ae-d137-4dad-84eb-fd884083760b"
      },
      "execution_count": 3,
      "outputs": [
        {
          "output_type": "stream",
          "name": "stdout",
          "text": [
            "Downloading data from https://storage.googleapis.com/tensorflow/tf-keras-datasets/mnist.npz\n",
            "11490434/11490434 [==============================] - 0s 0us/step\n",
            "(60000, 28, 28) (60000,)\n"
          ]
        }
      ]
    },
    {
      "cell_type": "code",
      "source": [
        "x_train_list = []\n",
        "x_test_list = []\n",
        "for i, i_ in enumerate(x_train[:1000]):\n",
        "    arr = np.zeros(shape=(32, 32))\n",
        "    arr[:28,:28] = x_train[i]\n",
        "    x_train_list.append(arr)\n",
        "for i, i_ in enumerate(x_test[:300]):\n",
        "    arr = np.zeros(shape=(32, 32))\n",
        "    arr[:28,:28] = x_test[i]\n",
        "    x_test_list.append(arr)\n",
        "\n",
        "x_train1 = np.expand_dims(np.array(x_train_list), axis=-1)\n",
        "x_test1 = np.expand_dims(np.array(x_test_list), axis=-1)\n",
        "print(x_train1.shape, x_test1.shape)"
      ],
      "metadata": {
        "colab": {
          "base_uri": "https://localhost:8080/"
        },
        "id": "kaJU1SqrW5FG",
        "outputId": "00425e46-a716-4b3b-ca2a-8939295899b2"
      },
      "execution_count": 4,
      "outputs": [
        {
          "output_type": "stream",
          "name": "stdout",
          "text": [
            "(1000, 32, 32, 1) (300, 32, 32, 1)\n"
          ]
        }
      ]
    },
    {
      "cell_type": "code",
      "source": [
        "y_train_list = []\n",
        "y_test_list = []\n",
        "for i, i_ in enumerate(y_train[:1000]):\n",
        "    zero = [0]*10\n",
        "    zero[i_] = 1\n",
        "    y_train_list.append(zero)\n",
        "\n",
        "for i, i_ in enumerate(y_test[:300]):\n",
        "    zero = [0]*10\n",
        "    zero[i_] = 1\n",
        "    y_test_list.append(zero)    \n",
        "    \n",
        "y_train1 = np.array(y_train_list)\n",
        "y_test1 = np.array(y_test_list)\n",
        "print(y_train1.shape, y_test1.shape)"
      ],
      "metadata": {
        "colab": {
          "base_uri": "https://localhost:8080/"
        },
        "id": "jY7sfcIDW9U9",
        "outputId": "24bf6809-20f0-403d-f908-008c75f0077c"
      },
      "execution_count": 5,
      "outputs": [
        {
          "output_type": "stream",
          "name": "stdout",
          "text": [
            "(1000, 10) (300, 10)\n"
          ]
        }
      ]
    },
    {
      "cell_type": "code",
      "source": [
        "plt.figure(figsize=(10,10))\n",
        "for i in range(3):\n",
        "    plt.subplot(1,3,i+1)\n",
        "    plt.imshow(x_train1[i][...,0], cmap='gray')\n",
        "    plt.title('Class = {}'.format(y_train[i]))"
      ],
      "metadata": {
        "colab": {
          "base_uri": "https://localhost:8080/",
          "height": 228
        },
        "id": "NBqNxyodXA4F",
        "outputId": "2f8efe5f-c4e5-48df-808a-7b2683cc4253"
      },
      "execution_count": 6,
      "outputs": [
        {
          "output_type": "display_data",
          "data": {
            "text/plain": [
              "<Figure size 720x720 with 3 Axes>"
            ],
            "image/png": "[encoded data removed]"
          },
          "metadata": {
            "needs_background": "light"
          }
        }
      ]
    },
    {
      "cell_type": "markdown",
      "source": [
        "## 3. Model\n",
        "* CONV-BN-ACT-POOL 구조"
      ],
      "metadata": {
        "id": "AayAfo7PX3FW"
      }
    },
    {
      "cell_type": "code",
      "source": [
        "first_layer= Input(shape=(32,32,1))"
      ],
      "metadata": {
        "id": "lbWpSp_nXiyY"
      },
      "execution_count": 7,
      "outputs": []
    },
    {
      "cell_type": "code",
      "source": [
        "#데이터의 특징을 추출할 Convolution 레이어\n",
        "second_layer = layers.Conv2D(filters=8, kernel_size=(3, 3), activation=None, padding='same')(first_layer)"
      ],
      "metadata": {
        "id": "dYLN90GueMfH"
      },
      "execution_count": 8,
      "outputs": []
    },
    {
      "cell_type": "code",
      "source": [
        "#Batch Normalization 레이어 (정규화)\n",
        "third_layer = layers.BatchNormalization()(second_layer)"
      ],
      "metadata": {
        "id": "r07CyhrOeZlW"
      },
      "execution_count": 9,
      "outputs": []
    },
    {
      "cell_type": "code",
      "source": [
        "#Activation function 레이어\n",
        "fourth_layer = layers.Activation('relu')(third_layer)"
      ],
      "metadata": {
        "id": "6dTH8ejZejEJ"
      },
      "execution_count": 10,
      "outputs": []
    },
    {
      "cell_type": "code",
      "source": [
        "#이미지 사이즈를 줄여주는 Pooling 레이어\n",
        "fifth_layer = layers.MaxPool2D(strides=(2, 2))(fourth_layer)"
      ],
      "metadata": {
        "id": "pzqwNHoceruU"
      },
      "execution_count": 11,
      "outputs": []
    },
    {
      "cell_type": "code",
      "source": [
        "#Flatten 레이어\n",
        "sixth_layer  = layers.Flatten()(fifth_layer)"
      ],
      "metadata": {
        "id": "ztQ_o7HwexkB"
      },
      "execution_count": 12,
      "outputs": []
    },
    {
      "cell_type": "code",
      "source": [
        "#이전 계층의 모든 뉴런을 연결해주는 Fully connected(Dense) 레이어\n",
        "seventh_layer = layers.Dense(100, activation = 'relu')(sixth_layer)"
      ],
      "metadata": {
        "id": "shj-swwHe3X4"
      },
      "execution_count": 13,
      "outputs": []
    },
    {
      "cell_type": "code",
      "source": [
        "#Dropout 레이어를 활용해 일부 뉴런들을 무작위로 학습에서 배제\n",
        "eighth_layer = layers.Dropout(0.25)(seventh_layer) "
      ],
      "metadata": {
        "id": "LdfVvJERe8L9"
      },
      "execution_count": 14,
      "outputs": []
    },
    {
      "cell_type": "code",
      "source": [
        "#최종 결과물 출력 레이어\n",
        "final_layer =  layers.Dense(10, activation='sigmoid')(eighth_layer)"
      ],
      "metadata": {
        "id": "wD7uky-kfJ7I"
      },
      "execution_count": 15,
      "outputs": []
    },
    {
      "cell_type": "code",
      "source": [
        "model = Model(first_layer, final_layer)\n",
        "model.summary()"
      ],
      "metadata": {
        "colab": {
          "base_uri": "https://localhost:8080/"
        },
        "id": "Qc7S9IZEfPck",
        "outputId": "56ab7253-ece3-4165-acd2-e13b1da224c5"
      },
      "execution_count": 17,
      "outputs": [
        {
          "output_type": "stream",
          "name": "stdout",
          "text": [
            "Model: \"model_1\"\n",
            "_________________________________________________________________\n",
            " Layer (type)                Output Shape              Param #   \n",
            "=================================================================\n",
            " input_1 (InputLayer)        [(None, 32, 32, 1)]       0         \n",
            "                                                                 \n",
            " conv2d (Conv2D)             (None, 32, 32, 8)         80        \n",
            "                                                                 \n",
            " batch_normalization (BatchN  (None, 32, 32, 8)        32        \n",
            " ormalization)                                                   \n",
            "                                                                 \n",
            " activation (Activation)     (None, 32, 32, 8)         0         \n",
            "                                                                 \n",
            " max_pooling2d (MaxPooling2D  (None, 16, 16, 8)        0         \n",
            " )                                                               \n",
            "                                                                 \n",
            " flatten (Flatten)           (None, 2048)              0         \n",
            "                                                                 \n",
            " dense (Dense)               (None, 100)               204900    \n",
            "                                                                 \n",
            " dropout (Dropout)           (None, 100)               0         \n",
            "                                                                 \n",
            " dense_1 (Dense)             (None, 10)                1010      \n",
            "                                                                 \n",
            "=================================================================\n",
            "Total params: 206,022\n",
            "Trainable params: 206,006\n",
            "Non-trainable params: 16\n",
            "_________________________________________________________________\n"
          ]
        }
      ]
    },
    {
      "cell_type": "markdown",
      "source": [
        "##4. Training Model"
      ],
      "metadata": {
        "id": "6PIF7xYcfX0u"
      }
    },
    {
      "cell_type": "code",
      "source": [
        "model.compile(loss=losses.CategoricalCrossentropy(), optimizer = optimizers.Adam(lr=1e-4), metrics=['accuracy'])\n",
        "#class가 3개 이상인 경우 categoricalCrossentropy 사용 / 2개인 경우 binary_crossentropy 사용"
      ],
      "metadata": {
        "colab": {
          "base_uri": "https://localhost:8080/"
        },
        "id": "f1nbbtz6fg49",
        "outputId": "36b13419-ffd5-4942-ad73-72476ea57686"
      },
      "execution_count": 20,
      "outputs": [
        {
          "output_type": "stream",
          "name": "stderr",
          "text": [
            "/usr/local/lib/python3.7/dist-packages/keras/optimizers/optimizer_v2/adam.py:110: UserWarning: The `lr` argument is deprecated, use `learning_rate` instead.\n",
            "  super(Adam, self).__init__(name, **kwargs)\n"
          ]
        }
      ]
    },
    {
      "cell_type": "code",
      "source": [
        "history = model.fit(x_train1, y_train1, epochs=20, batch_size = 32, validation_data=(x_test1,y_test1),shuffle=True)"
      ],
      "metadata": {
        "colab": {
          "base_uri": "https://localhost:8080/"
        },
        "id": "qdDld9fognyt",
        "outputId": "b010861f-4223-4bfc-c738-25c4cca55a69"
      },
      "execution_count": 22,
      "outputs": [
        {
          "output_type": "stream",
          "name": "stdout",
          "text": [
            "Epoch 1/20\n",
            "32/32 [==============================] - 8s 12ms/step - loss: 2.2088 - accuracy: 0.2710 - val_loss: 1.6242 - val_accuracy: 0.4400\n",
            "Epoch 2/20\n",
            "32/32 [==============================] - 0s 5ms/step - loss: 1.3848 - accuracy: 0.5640 - val_loss: 1.1571 - val_accuracy: 0.6267\n",
            "Epoch 3/20\n",
            "32/32 [==============================] - 0s 5ms/step - loss: 1.0804 - accuracy: 0.6810 - val_loss: 0.9238 - val_accuracy: 0.7033\n",
            "Epoch 4/20\n",
            "32/32 [==============================] - 0s 5ms/step - loss: 0.8814 - accuracy: 0.7440 - val_loss: 0.7852 - val_accuracy: 0.7600\n",
            "Epoch 5/20\n",
            "32/32 [==============================] - 0s 5ms/step - loss: 0.7115 - accuracy: 0.7940 - val_loss: 0.7046 - val_accuracy: 0.7967\n",
            "Epoch 6/20\n",
            "32/32 [==============================] - 0s 5ms/step - loss: 0.6494 - accuracy: 0.8090 - val_loss: 0.6308 - val_accuracy: 0.8133\n",
            "Epoch 7/20\n",
            "32/32 [==============================] - 0s 5ms/step - loss: 0.5389 - accuracy: 0.8510 - val_loss: 0.5790 - val_accuracy: 0.8300\n",
            "Epoch 8/20\n",
            "32/32 [==============================] - 0s 5ms/step - loss: 0.4774 - accuracy: 0.8670 - val_loss: 0.5377 - val_accuracy: 0.8467\n",
            "Epoch 9/20\n",
            "32/32 [==============================] - 0s 4ms/step - loss: 0.4589 - accuracy: 0.8640 - val_loss: 0.5101 - val_accuracy: 0.8600\n",
            "Epoch 10/20\n",
            "32/32 [==============================] - 0s 5ms/step - loss: 0.4178 - accuracy: 0.8750 - val_loss: 0.4783 - val_accuracy: 0.8667\n",
            "Epoch 11/20\n",
            "32/32 [==============================] - 0s 6ms/step - loss: 0.3695 - accuracy: 0.8970 - val_loss: 0.4574 - val_accuracy: 0.8600\n",
            "Epoch 12/20\n",
            "32/32 [==============================] - 0s 5ms/step - loss: 0.3387 - accuracy: 0.9150 - val_loss: 0.4382 - val_accuracy: 0.8833\n",
            "Epoch 13/20\n",
            "32/32 [==============================] - 0s 5ms/step - loss: 0.3291 - accuracy: 0.9070 - val_loss: 0.4122 - val_accuracy: 0.8767\n",
            "Epoch 14/20\n",
            "32/32 [==============================] - 0s 5ms/step - loss: 0.2978 - accuracy: 0.9160 - val_loss: 0.4001 - val_accuracy: 0.8867\n",
            "Epoch 15/20\n",
            "32/32 [==============================] - 0s 5ms/step - loss: 0.2696 - accuracy: 0.9350 - val_loss: 0.3849 - val_accuracy: 0.8933\n",
            "Epoch 16/20\n",
            "32/32 [==============================] - 0s 5ms/step - loss: 0.2657 - accuracy: 0.9280 - val_loss: 0.3700 - val_accuracy: 0.8900\n",
            "Epoch 17/20\n",
            "32/32 [==============================] - 0s 5ms/step - loss: 0.2402 - accuracy: 0.9310 - val_loss: 0.3664 - val_accuracy: 0.8867\n",
            "Epoch 18/20\n",
            "32/32 [==============================] - 0s 5ms/step - loss: 0.2203 - accuracy: 0.9520 - val_loss: 0.3484 - val_accuracy: 0.9033\n",
            "Epoch 19/20\n",
            "32/32 [==============================] - 0s 6ms/step - loss: 0.2143 - accuracy: 0.9460 - val_loss: 0.3455 - val_accuracy: 0.9000\n",
            "Epoch 20/20\n",
            "32/32 [==============================] - 0s 5ms/step - loss: 0.2003 - accuracy: 0.9550 - val_loss: 0.3404 - val_accuracy: 0.9000\n"
          ]
        }
      ]
    },
    {
      "cell_type": "markdown",
      "source": [
        "## 5. Test Results"
      ],
      "metadata": {
        "id": "J_XW7H5AhC0-"
      }
    },
    {
      "cell_type": "code",
      "source": [
        "acc = history.history['accuracy']\n",
        "val_acc = history.history['val_accuracy']\n",
        "loss = history.history['loss']\n",
        "val_loss = history.history['val_loss']"
      ],
      "metadata": {
        "id": "LkamErolhFWq"
      },
      "execution_count": 23,
      "outputs": []
    },
    {
      "cell_type": "code",
      "source": [
        "epochs = range(1,len(acc)+1)"
      ],
      "metadata": {
        "id": "L4NxCzi-hVsB"
      },
      "execution_count": 24,
      "outputs": []
    },
    {
      "cell_type": "markdown",
      "source": [
        "정확도와 손실함수 그래프 그리기"
      ],
      "metadata": {
        "id": "oFYfAFTLhaGe"
      }
    },
    {
      "cell_type": "code",
      "source": [
        "plt.plot(epochs, acc, 'b', color='blue', label='Training acc')\n",
        "plt.plot(epochs, val_acc, 'b', color='red', label='Validation acc')\n",
        "plt.title('Training and validation accuracy', color='w')\n",
        "plt.legend()\n",
        "\n",
        "plt.figure()\n",
        "\n",
        "plt.plot(epochs, loss, 'b', color='blue', label='Training loss')\n",
        "plt.plot(epochs, val_loss, 'b', color='red', label='Validation loss')\n",
        "plt.title('Training and validation loss', color='w')\n",
        "plt.legend()\n",
        "\n",
        "plt.show()"
      ],
      "metadata": {
        "colab": {
          "base_uri": "https://localhost:8080/",
          "height": 545
        },
        "id": "DLKjjTRyhakd",
        "outputId": "4e3f1c94-c510-4378-a246-0cf4e66b1a73"
      },
      "execution_count": 25,
      "outputs": [
        {
          "output_type": "display_data",
          "data": {
            "text/plain": [
              "<Figure size 432x288 with 1 Axes>"
            ],
            "image/png": "[encoded data removed]"
          },
          "metadata": {
            "needs_background": "light"
          }
        },
        {
          "output_type": "display_data",
          "data": {
            "text/plain": [
              "<Figure size 432x288 with 1 Axes>"
            ],
            "image/png": "[encoded data removed]"
          },
          "metadata": {
            "needs_background": "light"
          }
        }
      ]
    }
  ]
}